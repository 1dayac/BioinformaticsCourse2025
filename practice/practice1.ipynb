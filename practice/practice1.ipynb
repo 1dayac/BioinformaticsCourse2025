{
 "cells": [
  {
   "cell_type": "code",
   "execution_count": 1,
   "id": "initial_id",
   "metadata": {
    "collapsed": true,
    "ExecuteTime": {
     "end_time": "2025-03-12T08:20:14.357553994Z",
     "start_time": "2025-03-12T08:20:13.056297835Z"
    }
   },
   "outputs": [
    {
     "name": "stdout",
     "output_type": "stream",
     "text": [
      "Requirement already satisfied: biopython in /home/dmm2017/miniconda3/envs/Platinum/lib/python3.12/site-packages (1.85)\r\n",
      "Requirement already satisfied: numpy in /home/dmm2017/miniconda3/envs/Platinum/lib/python3.12/site-packages (from biopython) (2.2.2)\r\n"
     ]
    }
   ],
   "source": [
    "!pip install biopython"
   ]
  },
  {
   "cell_type": "markdown",
   "source": [],
   "metadata": {
    "collapsed": false
   },
   "id": "25a86846237b9c72"
  },
  {
   "cell_type": "markdown",
   "source": [
    "# Exploring Biopython Documentation\n",
    "\n",
    "Biopython provides extensive documentation that serves as a valuable resource for understanding its modules, functions, and usage. Here's a step-by-step guide on how to explore the documentation for a specific module, using the `Bio.Seq` module as an example:\n",
    "\n",
    "1. **Visit the Documentation:**\n",
    "   - Go to the [Biopython Documentation](https://biopython.org/wiki/Documentation).\n",
    "   - Navigate to the \"Biopython API\" section.\n",
    "\n",
    "2. **Locate the `Bio.Seq` Module:**\n",
    " \n",
    "3. **Explore Module Functions:**\n",
    "   - Click on the `Bio.Seq` module link to access its documentation.\n",
    "   - Explore the functions provided by the module, such as `Seq()`, `translate()`, etc.\n",
    "\n",
    "4. **Check Function Parameters:**\n",
    "   - Click on a specific function to view its documentation.\n",
    "   - Check the function's parameters, return values, and usage examples.\n"
   ],
   "metadata": {
    "collapsed": false
   },
   "id": "92d977b1d31bbb8e"
  },
  {
   "cell_type": "markdown",
   "source": [
    "\n",
    "## Task 1:\n",
    "\n",
    "- Import the `Seq` class from `Bio.Seq` to work with biological sequences.\n",
    "- Create a DNA sequence and display it.\n",
    "- Access individual bases of the sequence and demonstrate slicing.\n",
    "- Concatenate sequences to show how it can be done with Biopython.\n",
    "- Calculate GC-content using `Bio.SeqUtils`"
   ],
   "metadata": {
    "collapsed": false
   },
   "id": "f02a9d3468c731bc"
  },
  {
   "cell_type": "code",
   "outputs": [
    {
     "name": "stdout",
     "output_type": "stream",
     "text": [
      "DNA Sequence: TCTTGTATTGAGAACTGTGAATAAATTAGTTAATTTGTCAAT\n",
      "First base: T\n",
      "Last base: T\n",
      "Sliced sequence: TTGT\n",
      "Concatenated sequence: TCTTGTATTGAGAACTGTGAATAAATTAGTTAATTTGTCAATGATTACA\n",
      "GC-content: 0.24489795918367346\n"
     ]
    }
   ],
   "source": [
    "# Import the Seq class from Biopython\n",
    "from Bio.Seq import Seq\n",
    "from Bio.SeqUtils import gc_fraction\n",
    "\n",
    "# Create a DNA sequence\n",
    "dna_sequence = Seq(\"TCTTGTATTGAGAACTGTGAATAAATTAGTTAATTTGTCAAT\")\n",
    "\n",
    "# Display the sequence\n",
    "print(\"DNA Sequence:\", dna_sequence)\n",
    "\n",
    "# Accessing elements of the sequence\n",
    "print(\"First base:\", dna_sequence[0])\n",
    "print(\"Last base:\", dna_sequence[-1])\n",
    "\n",
    "# Slicing the sequence\n",
    "sub_sequence = dna_sequence[2:6]\n",
    "print(\"Sliced sequence:\", sub_sequence)\n",
    "\n",
    "# Concatenation of sequences\n",
    "concatenated_sequence = dna_sequence + Seq(\"GATTACA\")\n",
    "print(\"Concatenated sequence:\", concatenated_sequence)\n",
    "\n",
    "print(\"GC-content:\", gc_fraction(concatenated_sequence))\n"
   ],
   "metadata": {
    "collapsed": false,
    "ExecuteTime": {
     "end_time": "2025-03-12T08:29:53.830614309Z",
     "start_time": "2025-03-12T08:29:53.755115058Z"
    }
   },
   "id": "951172f63a3daf42",
   "execution_count": 5
  },
  {
   "cell_type": "markdown",
   "source": [
    "## Task2:\n",
    "\n",
    "- Use the `transcribe()` method to convert DNA to RNA.\n",
    "- Use the `translate()` method to convert RNA to protein.\n",
    "\n"
   ],
   "metadata": {
    "collapsed": false
   },
   "id": "9260e3ca18bbd3a8"
  },
  {
   "cell_type": "code",
   "outputs": [
    {
     "name": "stdout",
     "output_type": "stream",
     "text": [
      "RNA Sequence: UCUUGUAUUGAGAACUGUGAAUAAAUUAGUUAAUUUGUCAAU\n",
      "Protein Sequence: SCIENCE*IS*FVN\n",
      "Protein Sequence2: SCIENCE*IS*FVN\n"
     ]
    }
   ],
   "source": [
    "# Transcribe DNA to RNA\n",
    "rna_sequence = dna_sequence.transcribe()\n",
    "print(\"RNA Sequence:\", rna_sequence)\n",
    "\n",
    "# Translate RNA to protein\n",
    "protein_sequence = rna_sequence.translate()\n",
    "print(\"Protein Sequence:\", protein_sequence)\n",
    "\n",
    "\n",
    "# Transcribe DNA to RNA\n",
    "aminoacid_sequence = dna_sequence.translate()\n",
    "print(\"Protein Sequence2:\", aminoacid_sequence)\n"
   ],
   "metadata": {
    "collapsed": false,
    "ExecuteTime": {
     "end_time": "2025-03-12T08:35:17.110064234Z",
     "start_time": "2025-03-12T08:35:17.043062770Z"
    }
   },
   "id": "dc6ec0cb83a31c8d",
   "execution_count": 7
  },
  {
   "cell_type": "markdown",
   "source": [
    "## Task 3:\n",
    "- Import `SeqIO` from Biopython for reading and writing sequence files.\n",
    "- Write the DNA sequence to a FASTA file using `SeqIO.write`.\n",
    "- Read sequences from the saved FASTA file using `SeqIO.parse` and print them."
   ],
   "metadata": {
    "collapsed": false
   },
   "id": "245a6cbfce727164"
  },
  {
   "cell_type": "code",
   "outputs": [
    {
     "name": "stdout",
     "output_type": "stream",
     "text": [
      "Example DNA sequence\n",
      "Sequence written to example.fasta\n",
      "Read sequence from file:\n",
      "ID: sequence_1\n",
      "Description: sequence_1 Example DNA sequence\n",
      "Sequence: ATCGTAGCTAG\n"
     ]
    }
   ],
   "source": [
    "from Bio import SeqIO\n",
    "from Bio.Seq import Seq\n",
    "from Bio.SeqRecord import SeqRecord\n",
    "\n",
    "# Create a SeqRecord with a specific identifier and description\n",
    "record = SeqRecord(Seq(\"ATCGTAGCTAG\"), id=\"sequence_1\", description=\"Example DNA sequence\")\n",
    "print(record.description)\n",
    "# Write the SeqRecord to a FASTA file\n",
    "SeqIO.write(record, \"example.fasta\", \"fasta\")\n",
    "print(\"Sequence written to example.fasta\")\n",
    "\n",
    "# Read sequences from the FASTA file\n",
    "fasta_sequences = SeqIO.parse(\"example.fasta\", \"fasta\")\n",
    "for record in fasta_sequences:\n",
    "    print(\"Read sequence from file:\")\n",
    "    print(\"ID:\", record.id)\n",
    "    print(\"Description:\", record.description)\n",
    "    print(\"Sequence:\", record.seq)\n"
   ],
   "metadata": {
    "collapsed": false,
    "ExecuteTime": {
     "end_time": "2025-03-12T08:48:51.639701614Z",
     "start_time": "2025-03-12T08:48:51.561943868Z"
    }
   },
   "id": "3e83762cefc6ce10",
   "execution_count": 9
  },
  {
   "cell_type": "markdown",
   "source": [
    "## Task 4:\n",
    "- Import `Entrez` module for accessing NCBI databases.\n",
    "- Set your email address to identify yourself to NCBI.\n",
    "- Use `Entrez.efetch` to retrieve a GenBank record by accession number.\n",
    "- Read the GenBank record using `SeqIO.read` and display relevant information."
   ],
   "metadata": {
    "collapsed": false
   },
   "id": "8490d8491f9302a5"
  },
  {
   "cell_type": "code",
   "outputs": [
    {
     "name": "stdout",
     "output_type": "stream",
     "text": [
      "Accession: NM_001301717.2\n",
      "Description: Homo sapiens C-C motif chemokine receptor 7 (CCR7), transcript variant 4, mRNA\n",
      "Sequence length: 2191\n",
      "Sequence: ID: NM_001301717.2\n",
      "Name: NM_001301717\n",
      "Description: Homo sapiens C-C motif chemokine receptor 7 (CCR7), transcript variant 4, mRNA\n",
      "Number of features: 10\n",
      "/molecule_type=mRNA\n",
      "/topology=linear\n",
      "/data_file_division=PRI\n",
      "/date=12-NOV-2024\n",
      "/accessions=['NM_001301717']\n",
      "/sequence_version=2\n",
      "/keywords=['RefSeq']\n",
      "/source=Homo sapiens (human)\n",
      "/organism=Homo sapiens\n",
      "/taxonomy=['Eukaryota', 'Metazoa', 'Chordata', 'Craniata', 'Vertebrata', 'Euteleostomi', 'Mammalia', 'Eutheria', 'Euarchontoglires', 'Primates', 'Haplorrhini', 'Catarrhini', 'Hominidae', 'Homo']\n",
      "/references=[Reference(title='C-C chemokine receptor type 7 (CCR7) regulates hepatic CD8 + T cell homeostasis and response to acute liver injury', ...), Reference(title='CCR7/DUSP1 signaling Axis mediates iCAF to regulates head and neck squamous cell carcinoma growth', ...), Reference(title='C-C Chemokine Receptor 7 Promotes T-Cell Acute Lymphoblastic Leukemia Invasion of the Central Nervous System via beta2-Integrins', ...), Reference(title='CCL21-CCR7 signaling promotes microglia/macrophage recruitment and chemotherapy resistance in glioblastoma', ...), Reference(title='Multifaceted activities of CCR7 regulate T-cell homeostasis in health and disease', ...), Reference(title='Molecular cloning of a novel human CC chemokine EBI1-ligand chemokine that is a specific functional ligand for EBI1, CCR7', ...), Reference(title='Expression of the chemokine receptor BLR2/EBI1 is specifically transactivated by Epstein-Barr virus nuclear antigen 2', ...), Reference(title='Cloning of human and mouse EBI1, a lymphoid-specific G-protein-coupled receptor encoded on human chromosome 17q12-q21.2', ...), Reference(title='Epstein-Barr virus-induced genes: first lymphocyte-specific G protein-coupled peptide receptors', ...), Reference(title='Presence of three distinct molecular species of Gi protein alpha subunit. Structure of rat cDNAs and human genomic DNAs', ...)]\n",
      "/comment=REVIEWED REFSEQ: This record has been curated by NCBI staff. The\n",
      "reference sequence was derived from AK310277.1, HY017993.1 and\n",
      "BC035343.1.\n",
      "On Aug 13, 2020 this sequence version replaced NM_001301717.1.\n",
      "Summary: The protein encoded by this gene is a member of the G\n",
      "protein-coupled receptor family. This receptor was identified as a\n",
      "gene induced by the Epstein-Barr virus (EBV), and is thought to be\n",
      "a mediator of EBV effects on B lymphocytes. This receptor is\n",
      "expressed in various lymphoid tissues and activates B and T\n",
      "lymphocytes. It has been shown to control the migration of memory T\n",
      "cells to inflamed tissues, as well as stimulate dendritic cell\n",
      "maturation. The chemokine (C-C motif) ligand 19 (CCL19/ECL) has\n",
      "been reported to be a specific ligand of this receptor. Signals\n",
      "mediated by this receptor regulate T cell homeostasis in lymph\n",
      "nodes, and may also function in the activation and polarization of\n",
      "T cells, and in chronic inflammation pathogenesis. Alternative\n",
      "splicing of this gene results in multiple transcript variants.\n",
      "[provided by RefSeq, Sep 2014].\n",
      "Transcript Variant: This variant (4) contains an alternate 5'\n",
      "terminal exon, and it thus differs in its 5' UTR and initiates\n",
      "translation at a downstream in-frame start codon, compared to\n",
      "variant 1. The encoded isoform (c) is shorter at the N-terminus,\n",
      "compared to isoform a. Variants 3, 4 and 5 all encode isoform c.\n",
      "Publication Note:  This RefSeq record includes a subset of the\n",
      "publications that are available for this gene. Please see the Gene\n",
      "record to access additional publications.\n",
      "COMPLETENESS: complete on the 3' end.\n",
      "/structured_comment=defaultdict(<class 'dict'>, {'Evidence-Data': {'Transcript exon combination': 'HY017993.1 [ECO:0000332]', 'RNAseq introns': 'single sample supports all introns SAMEA2148874, SAMEA2161674 [ECO:0000348]'}})\n",
      "Seq('CTCTAGATGAGTCAGTGGAGGGCGGGTGGAGCGTTGAACCGTGAAGAGTGTGGT...AAA')\n"
     ]
    },
    {
     "data": {
      "text/plain": "1"
     },
     "execution_count": 10,
     "metadata": {},
     "output_type": "execute_result"
    }
   ],
   "source": [
    "from Bio import Entrez\n",
    "from Bio import SeqIO\n",
    "from Bio.Seq import Seq\n",
    "from Bio.SeqRecord import SeqRecord\n",
    "\n",
    "\n",
    "# Provide your email address to identify yourself to NCBI\n",
    "Entrez.email = \"your_email@example.com\"\n",
    "\n",
    "# Fetch data from NCBI using accession number\n",
    "accession_number = \"NM_001301717\"  # Example accession number\n",
    "handle = Entrez.efetch(db=\"nucleotide\", id=accession_number, rettype=\"gb\", retmode=\"text\")\n",
    "genbank_record = SeqIO.read(handle, \"genbank\")\n",
    "handle.close()\n",
    "\n",
    "# Display information from the GenBank record\n",
    "print(\"Accession:\", genbank_record.id)\n",
    "print(\"Description:\", genbank_record.description)\n",
    "print(\"Sequence length:\", len(genbank_record.seq))\n",
    "print(\"Sequence:\", genbank_record)\n",
    "\n",
    "SeqIO.write(genbank_record, \"ncbi.fasta\", \"fasta\")\n",
    "SeqIO.write(genbank_record, \"ncbi.gb\", \"genbank\")"
   ],
   "metadata": {
    "collapsed": false,
    "ExecuteTime": {
     "end_time": "2025-03-12T08:52:59.604389172Z",
     "start_time": "2025-03-12T08:52:54.906054027Z"
    }
   },
   "id": "fca9b6b3daa74120",
   "execution_count": 10
  },
  {
   "cell_type": "markdown",
   "source": [
    "## Task 5:\n",
    "- Create two DNA sequences for alignment.\n",
    "- Define a custom scoring matrix with match score, mismatch penalty, and gap penalty.\n",
    "- Use `pairwise2.align.globalms` for global alignment with custom scoring.\n",
    "- Display the aligned sequences and the alignment score with custom scoring."
   ],
   "metadata": {
    "collapsed": false
   },
   "id": "7fbd2ac0627cdc20"
  },
  {
   "cell_type": "code",
   "outputs": [
    {
     "name": "stdout",
     "output_type": "stream",
     "text": [
      "Aligned Sequence 1: ATCGTAGC-TAG\n",
      "Aligned Sequence 2: ATCGTA-CCTAG\n",
      "Alignment Score with Custom Scoring: 19.0\n",
      "\n",
      "BLAST-type alignment\n",
      "ATCGTAGC-TAG\n",
      "|||||| | |||\n",
      "ATCGTA-CCTAG\n",
      "  Score=19\n"
     ]
    },
    {
     "name": "stderr",
     "output_type": "stream",
     "text": [
      "/home/dmm2017/miniconda3/envs/Platinum/lib/python3.12/site-packages/Bio/pairwise2.py:278: BiopythonDeprecationWarning: Bio.pairwise2 has been deprecated, and we intend to remove it in a future release of Biopython. As an alternative, please consider using Bio.Align.PairwiseAligner as a replacement, and contact the Biopython developers if you still need the Bio.pairwise2 module.\n",
      "  warnings.warn(\n"
     ]
    }
   ],
   "source": [
    "from Bio import pairwise2\n",
    "from Bio.pairwise2 import format_alignment\n",
    "\n",
    "seq1 = Seq(\"ATCGTAGCTAG\")\n",
    "seq2 = Seq(\"ATCGTACCTAG\")\n",
    "\n",
    "# Define custom scoring matrix for matches and mismatches\n",
    "match_score = 2\n",
    "mismatch_penalty = -1\n",
    "gap_penalty = -0.5\n",
    "\n",
    "# Perform pairwise sequence alignment with custom scoring\n",
    "alignments_custom = pairwise2.align.globalms(seq1, seq2, match_score, mismatch_penalty, gap_penalty, gap_penalty, one_alignment_only=True)\n",
    "\n",
    "# Display the alignment result with custom scoring\n",
    "alignment_custom = alignments_custom[0]\n",
    "print(\"Aligned Sequence 1:\", alignment_custom.seqA)\n",
    "print(\"Aligned Sequence 2:\", alignment_custom.seqB)\n",
    "print(\"Alignment Score with Custom Scoring:\", alignment_custom.score)\n",
    "print(\"\")\n",
    "print(\"BLAST-type alignment\")\n",
    "for a in alignments_custom:\n",
    "    print(format_alignment(*a))"
   ],
   "metadata": {
    "collapsed": false,
    "ExecuteTime": {
     "end_time": "2025-03-12T09:11:53.585164538Z",
     "start_time": "2025-03-12T09:11:53.541362728Z"
    }
   },
   "id": "705eeffa676cfd1d",
   "execution_count": 11
  },
  {
   "cell_type": "markdown",
   "source": [
    "## Task 6: \n",
    "- Import `PDBParser` from Biopython for parsing PDB files.\n",
    "- Download a sample PDB file from the RCSB PDB database (https://files.rcsb.org/download/6YYT.pdb).\n",
    "- Parse the PDB file using the `PDBParser` and display basic information about the structure."
   ],
   "metadata": {
    "collapsed": false
   },
   "id": "d6b8a37aaf7d7c5c"
  },
  {
   "cell_type": "code",
   "outputs": [
    {
     "name": "stdout",
     "output_type": "stream",
     "text": [
      "Downloaded PDB file: 6YYT.pdb\n",
      "Structure ID: Hemoglobin\n",
      "Number of models: 1\n",
      "Number of chains: 8\n"
     ]
    }
   ],
   "source": [
    "from Bio.PDB import PDBParser\n",
    "\n",
    "# Download a sample PDB file (e.g., hemoglobin structure)\n",
    "pdb_url = \"https://files.rcsb.org/download/6YYT.pdb\"\n",
    "pdb_filename = \"6YYT.pdb\"\n",
    "\n",
    "import urllib.request\n",
    "urllib.request.urlretrieve(pdb_url, pdb_filename)\n",
    "print(f\"Downloaded PDB file: {pdb_filename}\")\n",
    "\n",
    "# Parse the PDB file\n",
    "parser = PDBParser(QUIET=True)\n",
    "structure = parser.get_structure(\"Hemoglobin\", pdb_filename)\n",
    "\n",
    "# Display information about the structure\n",
    "print(\"Structure ID:\", structure.id)\n",
    "print(\"Number of models:\", len(structure))\n",
    "print(\"Number of chains:\", len(list(structure[0])))"
   ],
   "metadata": {
    "collapsed": false,
    "ExecuteTime": {
     "end_time": "2025-03-12T09:13:18.360134179Z",
     "start_time": "2025-03-12T09:13:16.118830620Z"
    }
   },
   "id": "7550dda80462cc43",
   "execution_count": 12
  },
  {
   "cell_type": "markdown",
   "source": [
    "## Task 7:\n",
    "- Import `Phylo` from Biopython for parsing and drawing Phylogenies\n",
    "- Create Newick tree and draw it"
   ],
   "metadata": {
    "collapsed": false
   },
   "id": "c489a41465cabcaa"
  },
  {
   "cell_type": "code",
   "outputs": [
    {
     "name": "stdout",
     "output_type": "stream",
     "text": [
      "Requirement already satisfied: matplotlib in /home/dmm2017/miniconda3/envs/Platinum/lib/python3.12/site-packages (3.10.0)\r\n",
      "Requirement already satisfied: contourpy>=1.0.1 in /home/dmm2017/miniconda3/envs/Platinum/lib/python3.12/site-packages (from matplotlib) (1.3.1)\r\n",
      "Requirement already satisfied: cycler>=0.10 in /home/dmm2017/miniconda3/envs/Platinum/lib/python3.12/site-packages (from matplotlib) (0.12.1)\r\n",
      "Requirement already satisfied: fonttools>=4.22.0 in /home/dmm2017/miniconda3/envs/Platinum/lib/python3.12/site-packages (from matplotlib) (4.56.0)\r\n",
      "Requirement already satisfied: kiwisolver>=1.3.1 in /home/dmm2017/miniconda3/envs/Platinum/lib/python3.12/site-packages (from matplotlib) (1.4.8)\r\n",
      "Requirement already satisfied: numpy>=1.23 in /home/dmm2017/miniconda3/envs/Platinum/lib/python3.12/site-packages (from matplotlib) (2.2.2)\r\n",
      "Requirement already satisfied: packaging>=20.0 in /home/dmm2017/miniconda3/envs/Platinum/lib/python3.12/site-packages (from matplotlib) (24.2)\r\n",
      "Requirement already satisfied: pillow>=8 in /home/dmm2017/miniconda3/envs/Platinum/lib/python3.12/site-packages (from matplotlib) (11.1.0)\r\n",
      "Requirement already satisfied: pyparsing>=2.3.1 in /home/dmm2017/miniconda3/envs/Platinum/lib/python3.12/site-packages (from matplotlib) (3.2.1)\r\n",
      "Requirement already satisfied: python-dateutil>=2.7 in /home/dmm2017/miniconda3/envs/Platinum/lib/python3.12/site-packages (from matplotlib) (2.9.0.post0)\r\n",
      "Requirement already satisfied: six>=1.5 in /home/dmm2017/miniconda3/envs/Platinum/lib/python3.12/site-packages (from python-dateutil>=2.7->matplotlib) (1.16.0)\r\n"
     ]
    },
    {
     "data": {
      "text/plain": "<Figure size 640x480 with 1 Axes>",
      "image/png": "[encoded data removed]"
     },
     "metadata": {},
     "output_type": "display_data"
    }
   ],
   "source": [
    "!pip install matplotlib\n",
    "from Bio import Phylo\n",
    "from io import StringIO\n",
    "\n",
    "\n",
    "# Create a basic Newick format string for a small tree\n",
    "newick_tree = \"((A:0.1,B:0.2)C:0.3,D:0.4)E;\"\n",
    "handle = StringIO(newick_tree)\n",
    "# Parse the Newick format tree\n",
    "tree = Phylo.read(handle, \"newick\")\n",
    "\n",
    "# Draw the phylogenetic tree\n",
    "Phylo.draw(tree)"
   ],
   "metadata": {
    "collapsed": false,
    "ExecuteTime": {
     "end_time": "2025-03-12T09:14:53.491758476Z",
     "start_time": "2025-03-12T09:14:52.048241506Z"
    }
   },
   "id": "a748698f0fe6bdb9",
   "execution_count": 13
  },
  {
   "cell_type": "markdown",
   "source": [
    "# Exercise: DNA Sequence Motif Search\n",
    "Problem Statement:\n",
    "\n",
    "You are given a DNA sequence and a motif. Your task is to write a Python function that finds all occurrences of the motif within the DNA sequence. Additionally, the function should return the positions (indices) of the motif in the DNA sequence.\n",
    "\n",
    "Write a Python function named find_motif with the following signature:"
   ],
   "metadata": {
    "collapsed": false
   },
   "id": "3d57082c968b9ea4"
  },
  {
   "cell_type": "code",
   "outputs": [],
   "source": [
    "from Bio.SeqUtils import nt_search\n",
    "from Bio.motifs import Instances\n",
    "\n",
    "def find_motif(dna_sequence, motif):\n",
    "    \"\"\"\n",
    "    Find all occurrences of a motif in a DNA sequence.\n",
    "\n",
    "    Parameters:\n",
    "    - dna_sequence (str): The input DNA sequence.\n",
    "    - motif (str): The motif to search for.\n",
    "\n",
    "    Returns:\n",
    "    - List of integers: Positions (indices) of motif occurrences in the DNA sequence.\n",
    "    \"\"\"\n",
    "    sequence = Seq(dna_sequence)\n",
    "\n",
    "    positions = nt_search(str(sequence), motif)\n",
    "\n",
    "    return positions\n",
    "\n",
    "def find_motif_slow(dna_sequence, motif):\n",
    "    positions = []\n",
    "    motif_length = len(motif)\n",
    "    sequence_length = len(dna_sequence)\n",
    "\n",
    "    for i in range(sequence_length - motif_length + 1):\n",
    "        if dna_sequence[i:i + motif_length] == motif:\n",
    "            positions.append(i)\n",
    "\n",
    "    return positions\n"
   ],
   "metadata": {
    "collapsed": false,
    "ExecuteTime": {
     "end_time": "2025-03-11T21:41:33.947683312Z",
     "start_time": "2025-03-11T21:41:33.903481473Z"
    }
   },
   "id": "dd7120cb4a182d9e",
   "execution_count": 5
  },
  {
   "cell_type": "code",
   "outputs": [],
   "source": [],
   "metadata": {
    "collapsed": false
   },
   "id": "8bb2888385f11bac"
  }
 ],
 "metadata": {
  "kernelspec": {
   "display_name": "Python 3",
   "language": "python",
   "name": "python3"
  },
  "language_info": {
   "codemirror_mode": {
    "name": "ipython",
    "version": 2
   },
   "file_extension": ".py",
   "mimetype": "text/x-python",
   "name": "python",
   "nbconvert_exporter": "python",
   "pygments_lexer": "ipython2",
   "version": "2.7.6"
  }
 },
 "nbformat": 4,
 "nbformat_minor": 5
}
