{
 "cells": [
  {
   "cell_type": "markdown",
   "id": "41989758",
   "metadata": {},
   "source": [
    "# Practice 5: Motif Discovery with PFM and PSSM\n",
    "\n",
    "In this exercise, you will learn how to work with sequence motifs using Anderson promoter sequences. The tasks are designed to walk you through the construction of a Position Frequency Matrix (PFM), a Position Probability Matrix (PPM), and finally a Position-Specific Scoring Matrix (PSSM).\n",
    "\n",
    "You will then scan a real bacterial genome for high-scoring matches.\n",
    "\n",
    "---\n",
    "\n",
    "## 🧠 Biological Background\n",
    "\n",
    "Transcription factors often bind to short, conserved motifs in the DNA. One way to represent these motifs is with **position-specific matrices** derived from multiple aligned sequences.\n",
    "\n",
    "- **PFM (Position Frequency Matrix):** counts of A/C/G/T at each position.\n",
    "- **PPM (Position Probability Matrix):** normalized frequencies (sums to 1 per column).\n",
    "- **PSSM (Position-Specific Scoring Matrix):** log-odds score of each base relative to background.\n",
    "\n",
    "---\n",
    "\n",
    "We will use a set of Anderson promoter sequences to build these matrices.\n"
   ]
  },
  {
   "cell_type": "markdown",
   "id": "af17c8a670a1d8f8",
   "metadata": {
    "collapsed": false
   },
   "source": [
    "# PSSM Matrices"
   ]
  },
  {
   "cell_type": "code",
   "execution_count": 1,
   "id": "6350f0982294fe13",
   "metadata": {
    "ExecuteTime": {
     "end_time": "2025-06-11T06:50:00.490733685Z",
     "start_time": "2025-06-11T06:49:33.975283969Z"
    },
    "collapsed": false
   },
   "outputs": [
    {
     "name": "stdout",
     "output_type": "stream",
     "text": [
      "Collecting biotite\r\n",
      "  Downloading biotite-1.3.0-cp312-cp312-manylinux_2_17_x86_64.manylinux2014_x86_64.whl.metadata (5.5 kB)\r\n",
      "Collecting biotraj<2.0,>=1.0 (from biotite)\r\n",
      "  Downloading biotraj-1.2.2-cp312-cp312-manylinux_2_17_x86_64.manylinux2014_x86_64.whl.metadata (32 kB)\r\n",
      "Collecting msgpack>=0.5.6 (from biotite)\r\n",
      "  Downloading msgpack-1.1.0-cp312-cp312-manylinux_2_17_x86_64.manylinux2014_x86_64.whl.metadata (8.4 kB)\r\n",
      "Requirement already satisfied: networkx>=2.0 in /home/dmm2017/miniconda3/envs/Platinum/lib/python3.12/site-packages (from biotite) (3.4.2)\r\n",
      "Requirement already satisfied: numpy>=1.25 in /home/dmm2017/miniconda3/envs/Platinum/lib/python3.12/site-packages (from biotite) (2.2.2)\r\n",
      "Requirement already satisfied: packaging>=24.0 in /home/dmm2017/miniconda3/envs/Platinum/lib/python3.12/site-packages (from biotite) (24.2)\r\n",
      "Requirement already satisfied: requests>=2.12 in /home/dmm2017/miniconda3/envs/Platinum/lib/python3.12/site-packages (from biotite) (2.32.3)\r\n",
      "Collecting scipy>=1.13 (from biotraj<2.0,>=1.0->biotite)\r\n",
      "  Downloading scipy-1.15.3-cp312-cp312-manylinux_2_17_x86_64.manylinux2014_x86_64.whl.metadata (61 kB)\r\n",
      "Requirement already satisfied: charset-normalizer<4,>=2 in /home/dmm2017/miniconda3/envs/Platinum/lib/python3.12/site-packages (from requests>=2.12->biotite) (3.3.2)\r\n",
      "Requirement already satisfied: idna<4,>=2.5 in /home/dmm2017/miniconda3/envs/Platinum/lib/python3.12/site-packages (from requests>=2.12->biotite) (3.7)\r\n",
      "Requirement already satisfied: urllib3<3,>=1.21.1 in /home/dmm2017/miniconda3/envs/Platinum/lib/python3.12/site-packages (from requests>=2.12->biotite) (2.3.0)\r\n",
      "Requirement already satisfied: certifi>=2017.4.17 in /home/dmm2017/miniconda3/envs/Platinum/lib/python3.12/site-packages (from requests>=2.12->biotite) (2025.1.31)\r\n",
      "Downloading biotite-1.3.0-cp312-cp312-manylinux_2_17_x86_64.manylinux2014_x86_64.whl (56.1 MB)\r\n",
      "\u001b[2K   \u001b[90m━━━━━━━━━━━━━━━━━━━━━━━━━━━━━━━━━━━━━━━━\u001b[0m \u001b[32m56.1/56.1 MB\u001b[0m \u001b[31m5.8 MB/s\u001b[0m eta \u001b[36m0:00:00\u001b[0m00:01\u001b[0m00:01\u001b[0m\r\n",
      "\u001b[?25hDownloading biotraj-1.2.2-cp312-cp312-manylinux_2_17_x86_64.manylinux2014_x86_64.whl (2.2 MB)\r\n",
      "\u001b[2K   \u001b[90m━━━━━━━━━━━━━━━━━━━━━━━━━━━━━━━━━━━━━━━━\u001b[0m \u001b[32m2.2/2.2 MB\u001b[0m \u001b[31m5.9 MB/s\u001b[0m eta \u001b[36m0:00:00\u001b[0ma \u001b[36m0:00:01\u001b[0m\r\n",
      "\u001b[?25hDownloading msgpack-1.1.0-cp312-cp312-manylinux_2_17_x86_64.manylinux2014_x86_64.whl (401 kB)\r\n",
      "Downloading scipy-1.15.3-cp312-cp312-manylinux_2_17_x86_64.manylinux2014_x86_64.whl (37.3 MB)\r\n",
      "\u001b[2K   \u001b[90m━━━━━━━━━━━━━━━━━━━━━━━━━━━━━━━━━━━━━━━━\u001b[0m \u001b[32m37.3/37.3 MB\u001b[0m \u001b[31m5.5 MB/s\u001b[0m eta \u001b[36m0:00:00\u001b[0m00:01\u001b[0m00:01\u001b[0m\r\n",
      "\u001b[?25hInstalling collected packages: scipy, msgpack, biotraj, biotite\r\n",
      "Successfully installed biotite-1.3.0 biotraj-1.2.2 msgpack-1.1.0 scipy-1.15.3\r\n"
     ]
    }
   ],
   "source": [
    "!pip install biotite\n",
    "\n",
    "from Bio.Seq import Seq\n",
    "import numpy as np\n",
    "import matplotlib.pyplot as plt\n",
    "import biotite.sequence as seq\n",
    "import biotite.sequence.align as align\n",
    "import biotite.sequence.graphics as graphics\n",
    "\n",
    "# The list of Anderson promoters\n",
    "seqs = [Seq(\"ttgacagctagctcagtcctaggtataatgctagc\"),\n",
    "        Seq(\"ttgacagctagctcagtcctaggtataatgctagc\"),\n",
    "        Seq(\"tttacagctagctcagtcctaggtattatgctagc\"),\n",
    "        Seq(\"ttgacagctagctcagtcctaggtactgtgctagc\"),\n",
    "        Seq(\"ctgatagctagctcagtcctagggattatgctagc\"),\n",
    "        Seq(\"ttgacagctagctcagtcctaggtattgtgctagc\"),\n",
    "        Seq(\"tttacggctagctcagtcctaggtactatgctagc\"),\n",
    "        Seq(\"tttacggctagctcagtcctaggtatagtgctagc\"),\n",
    "        Seq(\"tttacggctagctcagccctaggtattatgctagc\"),\n",
    "        Seq(\"ctgacagctagctcagtcctaggtataatgctagc\"),\n",
    "        Seq(\"tttacagctagctcagtcctagggactgtgctagc\"),\n",
    "        Seq(\"tttacggctagctcagtcctaggtacaatgctagc\"),\n",
    "        Seq(\"ttgacggctagctcagtcctaggtatagtgctagc\"),\n",
    "        Seq(\"ctgatagctagctcagtcctagggattatgctagc\"),\n",
    "        Seq(\"ctgatggctagctcagtcctagggattatgctagc\"),\n",
    "        Seq(\"tttatggctagctcagtcctaggtacaatgctagc\"),\n",
    "        Seq(\"tttatagctagctcagcccttggtacaatgctagc\"),\n",
    "        Seq(\"ttgacagctagctcagtcctagggactatgctagc\"),\n",
    "        Seq(\"ttgacagctagctcagtcctagggattgtgctagc\"),\n",
    "        Seq(\"ttgacggctagctcagtcctaggtattgtgctagc\")]\n"
   ]
  },
  {
   "cell_type": "markdown",
   "id": "54e77620",
   "metadata": {},
   "source": [
    "## Task 1: Build a Position Frequency Matrix and PPM\n",
    "\n",
    "Using the provided Anderson promoter sequences:\n",
    "\n",
    "1. Build a **Position Frequency Matrix (PFM)**.\n",
    "   - Rows: A, C, G, T.\n",
    "   - Columns: each position in the motif (should all be the same length).\n",
    "\n",
    "2. Convert the PFM into a **Position Probability Matrix (PPM)** by normalizing each column.\n",
    "\n",
    "📝 **Hints:**\n",
    "- You can assume all sequences are the same length.\n",
    "- Use `numpy` for matrix manipulation.\n",
    "\n",
    "Example PFM:\n",
    "\n",
    "|   | 0 | 1 | 2 |\n",
    "|---|---|---|---|\n",
    "| A | 2 | 1 | 7 |\n",
    "| C | 3 | 6 | 0 |\n",
    "| G | 3 | 0 | 2 |\n",
    "| T | 2 | 3 | 1 |\n"
   ]
  },
  {
   "cell_type": "markdown",
   "id": "64d23199f528a314",
   "metadata": {
    "collapsed": false
   },
   "source": [
    "# Your code goes here\n",
    "#\n",
    "#"
   ]
  },
  {
   "cell_type": "markdown",
   "id": "eb5ee336",
   "metadata": {},
   "source": [
    "🖼️ **(Optional Bonus)**: Plot the PPM as a sequence logo!\n",
    "\n",
    "You can use:\n",
    "```python\n",
    "graphics.plot_sequence_logo(ppm, ax=plt.gca())\n",
    "```\n",
    "You'll need to convert your matrix into a `biotite.sequence.align.SubstitutionMatrix` object or manually scale it.\n"
   ]
  },
  {
   "cell_type": "markdown",
   "id": "b6aff88753a073a4",
   "metadata": {
    "collapsed": false
   },
   "source": [
    "## Task 2\n",
    "\n",
    "You have a Lactobacillus genome in \"practice5_files\" folder. Let's try to find the 10 top-scoring according to your PSM... "
   ]
  },
  {
   "cell_type": "markdown",
   "id": "706809fdd9396434",
   "metadata": {
    "collapsed": false
   },
   "source": [
    "# Your code goes here\n",
    "#\n",
    "#"
   ]
  },
  {
   "cell_type": "markdown",
   "id": "6157f22b15cb38e3",
   "metadata": {
    "collapsed": false
   },
   "source": [
    "## Task 3\n",
    "\n",
    "Since your previous step did not give any meaningful results, let's try and add pseudocounts to the model (just add 0.01 probability to every cell of PPM)"
   ]
  },
  {
   "cell_type": "markdown",
   "id": "eb08e86c8391428a",
   "metadata": {
    "collapsed": false
   },
   "source": [
    "# Your code goes here\n",
    "#\n",
    "#"
   ]
  },
  {
   "cell_type": "markdown",
   "id": "65a43fffd2a709f6",
   "metadata": {
    "collapsed": false
   },
   "source": [
    "## Task 4\n",
    "\n",
    "Ok, now we have some top-scoring positions, however, numbers are not impressive of meaningful.\n",
    "\n",
    "To get meaningful results let's switch to log odds Position Weight Matrix (PWM)\n",
    "![correct](practice5_files/PPM.png)\n",
    "\n",
    "b_k - frequency of nucleotide k in background model (nucleotide frequency based)"
   ]
  },
  {
   "cell_type": "markdown",
   "id": "2ea410b704d96d21",
   "metadata": {
    "collapsed": false
   },
   "source": [
    "# Your code goes here\n",
    "#\n",
    "#"
   ]
  },
  {
   "cell_type": "markdown",
   "id": "d011242f",
   "metadata": {},
   "source": [
    "## 🧪 Bonus Task: Extend the Motif Scanner\n",
    "\n",
    "Can you improve your scanner to:\n",
    "- Report overlapping hits?\n",
    "- Score reverse complements?\n",
    "This simulates a more realistic binding site detection tool!\n"
   ]
  },
  {
   "cell_type": "code",
   "execution_count": null,
   "id": "bbf40a215c8cf571",
   "metadata": {
    "collapsed": false
   },
   "outputs": [],
   "source": []
  }
 ],
 "metadata": {
  "kernelspec": {
   "display_name": "Python 3",
   "language": "python",
   "name": "python3"
  },
  "language_info": {
   "codemirror_mode": {
    "name": "ipython",
    "version": 2
   },
   "file_extension": ".py",
   "mimetype": "text/x-python",
   "name": "python",
   "nbconvert_exporter": "python",
   "pygments_lexer": "ipython2",
   "version": "3.12.6"
  }
 },
 "nbformat": 4,
 "nbformat_minor": 5
}
