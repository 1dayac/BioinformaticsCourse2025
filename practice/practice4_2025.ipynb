{
 "cells": [
  {
   "cell_type": "markdown",
   "source": [],
   "metadata": {
    "collapsed": false
   },
   "id": "42f8e63f0ab15ef2"
  },
  {
   "cell_type": "markdown",
   "source": [
    "### HMMs: important tips"
   ],
   "metadata": {
    "collapsed": false
   },
   "id": "1ac21c80926fdbc7"
  },
  {
   "cell_type": "markdown",
   "source": [
    "Don't forget about float representation in memory.\n",
    "The lower values we get - the lower the precision is."
   ],
   "metadata": {
    "collapsed": false
   },
   "id": "89789e01f78e2495"
  },
  {
   "cell_type": "code",
   "outputs": [
    {
     "name": "stdout",
     "output_type": "stream",
     "text": [
      "0.004909648519238187\n"
     ]
    }
   ],
   "source": [
    "import random\n",
    "\n",
    "# Define the number of random floats to generate\n",
    "num_floats = 1000\n",
    "\n",
    "# Define the range for random floats\n",
    "min_value = 0.0\n",
    "max_value = 0.00001\n",
    "\n",
    "# Generate a list of random floats\n",
    "random_floats = [random.uniform(min_value, max_value) for _ in range(num_floats)]\n",
    "\n",
    "# Print the list of random floats\n",
    "print(sum(random_floats))\n",
    "\n",
    "\n"
   ],
   "metadata": {
    "collapsed": false,
    "ExecuteTime": {
     "end_time": "2024-03-19T22:00:43.110652454Z",
     "start_time": "2024-03-19T22:00:43.064953500Z"
    }
   },
   "id": "8cbe758149603bd7",
   "execution_count": 24
  },
  {
   "cell_type": "code",
   "outputs": [
    {
     "name": "stdout",
     "output_type": "stream",
     "text": [
      "0.0049096485192381845\n"
     ]
    }
   ],
   "source": [
    "random_floats = sorted(random_floats)\n",
    "print(sum(random_floats))"
   ],
   "metadata": {
    "collapsed": false,
    "ExecuteTime": {
     "end_time": "2024-03-19T22:00:44.674257380Z",
     "start_time": "2024-03-19T22:00:44.672697548Z"
    }
   },
   "id": "f66cd3bb2e320fe8",
   "execution_count": 25
  },
  {
   "cell_type": "code",
   "outputs": [
    {
     "name": "stdout",
     "output_type": "stream",
     "text": [
      "0.004909648519238181\n"
     ]
    }
   ],
   "source": [
    "print(sum(random_floats[::-1]))"
   ],
   "metadata": {
    "collapsed": false,
    "ExecuteTime": {
     "end_time": "2024-03-19T22:00:52.503072334Z",
     "start_time": "2024-03-19T22:00:52.498920534Z"
    }
   },
   "id": "bdff9c91b8f67724",
   "execution_count": 26
  },
  {
   "cell_type": "markdown",
   "source": [
    "Also, in Vitterbi algorithm we want to multiply small numbers multiple times, we can go out of the limits very fast."
   ],
   "metadata": {
    "collapsed": false
   },
   "id": "85e6cce295489311"
  },
  {
   "cell_type": "markdown",
   "source": [
    "\n",
    "For single-precision floats (`float` in Python), the range of representable values is approximately from 1.17549 × 10^-38 to 3.40282 × 10^38, with a precision of about 7 decimal digits.\n",
    "\n",
    "For double-precision floats (`double` in C/C++, `float64` in Python), the range is much wider, approximately from 2.22507 × 10^-308 to 1.79769 × 10^308, with a precision of about 15-16 decimal digits.\n"
   ],
   "metadata": {
    "collapsed": false
   },
   "id": "4425e1e75363078c"
  },
  {
   "cell_type": "markdown",
   "source": [
    "# Log Multiplication\n",
    "\n",
    "The log multiplication formula states that the logarithm of the product of multiple numbers is equal to the sum of the logarithms of those numbers. Mathematically, it can be expressed as:\n",
    "\n",
    "log(P(A,B,C)) = log(P(A)) + log(P(B)) + log(P(C))\n",
    "\n",
    "\n",
    "Where \\( P(A,B,C) \\) represents the product of numbers \\( A \\), \\( B \\), and \\( C \\), and \\( P(A) \\), \\( P(B) \\), \\( P(C) \\) represent the individual numbers.\n",
    "\n",
    "To retrieve the product \\( P(A,B,C) \\) from the logarithmic sum, you can exponentiate the result:\n",
    "\n",
    "P(A,B,C) = e^log(P(A,B,C))\n",
    "\n",
    "\n",
    "Log multiplication is particularly useful in scenarios where you need to handle very large or very small numbers, as it simplifies complex calculations involving multiplication operations. By converting multiplication into addition, log multiplication can help mitigate numerical instability and reduce the risk of overflow or underflow errors.\n",
    "\n",
    "\n",
    "\n"
   ],
   "metadata": {
    "collapsed": false
   },
   "id": "1e3216fc5011bc43"
  },
  {
   "cell_type": "markdown",
   "source": [
    "More info here - [https://en.wikipedia.org/wiki/Log_probability](https://en.wikipedia.org/wiki/Log_probability)"
   ],
   "metadata": {
    "collapsed": false
   },
   "id": "95ebee1caa2aa86c"
  },
  {
   "cell_type": "code",
   "outputs": [],
   "source": [],
   "metadata": {
    "collapsed": false
   },
   "id": "baf49f271dc74ae1"
  }
 ],
 "metadata": {
  "kernelspec": {
   "display_name": "Python 3",
   "language": "python",
   "name": "python3"
  },
  "language_info": {
   "codemirror_mode": {
    "name": "ipython",
    "version": 2
   },
   "file_extension": ".py",
   "mimetype": "text/x-python",
   "name": "python",
   "nbconvert_exporter": "python",
   "pygments_lexer": "ipython2",
   "version": "2.7.6"
  }
 },
 "nbformat": 4,
 "nbformat_minor": 5
}
