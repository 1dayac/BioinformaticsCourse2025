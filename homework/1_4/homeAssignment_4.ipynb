{
 "cells": [
  {
   "cell_type": "markdown",
   "metadata": {
    "collapsed": false,
    "jupyter": {
     "outputs_hidden": false
    }
   },
   "source": [
    "# Домашнее задание №4"
   ]
  },
  {
   "cell_type": "markdown",
   "metadata": {
    "collapsed": false,
    "jupyter": {
     "outputs_hidden": false
    }
   },
   "source": [
    "\n",
    "Это домашнее задание можно выполнять целиком в этом ноутбуке, либо алгоритмы написать в отдельном файле и импортировать сюда, для использования. В папке data лежат два файла islands.fasta и nonIslands.fasta. В них хранятся прочтения из CpG островков и из обычных участков генома соответственно, этими данными нужно будет воспользоваться в первом задании."
   ]
  },
  {
   "cell_type": "code",
   "execution_count": 288,
   "metadata": {},
   "outputs": [],
   "source": [
    "from Bio import SeqIO\n",
    "from collections import Counter, defaultdict\n",
    "from itertools import product\n",
    "import numpy as np"
   ]
  },
  {
   "cell_type": "markdown",
   "metadata": {},
   "source": [
    "## Задача №1 (1)\n",
    "Определите частоты генерации для каждого из нуклеотидов внутри CpG островков и вне их. Посчитайте так-же частоты для всех упорядоченных пар нуклеотидов и сравните частоту пары CG внутри островков и снаружи. Сделайте вывод. "
   ]
  },
  {
   "cell_type": "code",
   "execution_count": 75,
   "metadata": {},
   "outputs": [],
   "source": [
    "def seq_frequency(seq):\n",
    "    len_seq = len(seq)\n",
    "    \n",
    "    nucl_cnt = Counter(seq)\n",
    "    nucl_freq = {nucleotide: nucl_cnt[nucleotide] / len_seq for nucleotide, cnt in nucl_cnt.items()}\n",
    "\n",
    "    pair_cnt = defaultdict(int)\n",
    "    for i in range(len(seq)-1):\n",
    "        pair = seq[i] + seq[i+1]\n",
    "        pair_cnt[pair] += 1\n",
    "    pair_freq = {pair: cnt/(len_seq-1) for pair, cnt in pair_cnt.items()}\n",
    "    \n",
    "    return nucl_freq, pair_freq"
   ]
  },
  {
   "cell_type": "code",
   "execution_count": 76,
   "metadata": {},
   "outputs": [],
   "source": [
    "alphabet = ['A', 'T', 'G', 'C']\n",
    "\n",
    "def file_frequency(fasta_file, alphabet):\n",
    "    all_nucl = {nucl: 0 for nucl in alphabet}\n",
    "    all_pairs = {''.join(pair): 0 for pair in product(alphabet, repeat=2)}\n",
    "    n_seq = 0\n",
    "\n",
    "    for record in SeqIO.parse(fasta_file, \"fasta\"):\n",
    "        n_seq += 1\n",
    "        seq = str(record.seq).upper()\n",
    "        nucl_freq, pair_freq = seq_frequency(seq)\n",
    "        \n",
    "        for nucleotide in all_nucl:\n",
    "            all_nucl[nucleotide] += nucl_freq.get(nucleotide, 0)\n",
    "        for pair in all_pairs:\n",
    "            all_pairs[pair] += pair_freq.get(pair, 0)\n",
    "\n",
    "    mean_nucl_freq = {nucl: freq/n_seq for nucl, freq in all_nucl.items()}\n",
    "    mean_pair_freq = {pair: freq/n_seq for pair, freq in all_pairs.items()}\n",
    "\n",
    "    return mean_nucl_freq, mean_pair_freq"
   ]
  },
  {
   "cell_type": "markdown",
   "metadata": {},
   "source": [
    "#### Определение частоты генерации для каждого из нуклеотидов внутри CpG островков и вне их"
   ]
  },
  {
   "cell_type": "markdown",
   "metadata": {
    "jp-MarkdownHeadingCollapsed": true
   },
   "source": [
    "В файлах fasta хранится множество последовательностей. Изначально я посчитала частоты внутри каждой последовательности (функция seq_frequency), затем усреднила эти частоты по всем последовательностям одного файла (file_frequency). Выведенные ниже частоты - усреднённые по всем последовательностям отдельно для файлов \"islands.fasta\" и \"nonIslands.fasta\"."
   ]
  },
  {
   "cell_type": "code",
   "execution_count": 77,
   "metadata": {},
   "outputs": [
    {
     "name": "stdout",
     "output_type": "stream",
     "text": [
      "Средние частоты нуклеотидов внутри CpG островков:\n",
      "A: 0.2025\n",
      "C: 0.2964\n",
      "G: 0.2983\n",
      "T: 0.2029\n",
      "\n",
      "Средние частоты пар нуклеотидов внутри CpG островков:\n",
      "AA: 0.0512\n",
      "AC: 0.0459\n",
      "AG: 0.0719\n",
      "AT: 0.0334\n",
      "CA: 0.0629\n",
      "CC: 0.1028\n",
      "CG: 0.0590\n",
      "CT: 0.0717\n",
      "GA: 0.0599\n",
      "GC: 0.0882\n",
      "GG: 0.1036\n",
      "GT: 0.0467\n",
      "TA: 0.0285\n",
      "TC: 0.0595\n",
      "TG: 0.0638\n",
      "TT: 0.0510\n"
     ]
    }
   ],
   "source": [
    "islands_nucl, islands_pair = file_frequency(\"./data/islands.fasta\", alphabet)\n",
    "print(\"Средние частоты нуклеотидов внутри CpG островков:\")\n",
    "for nucl, freq in sorted(islands_nucl.items()):\n",
    "    print(f\"{nucl}: {freq:.4f}\")\n",
    "\n",
    "print(\"\\nСредние частоты пар нуклеотидов внутри CpG островков:\")\n",
    "for pair, freq in sorted(islands_pair.items()):\n",
    "    print(f\"{pair}: {freq:.4f}\")"
   ]
  },
  {
   "cell_type": "code",
   "execution_count": 78,
   "metadata": {},
   "outputs": [
    {
     "name": "stdout",
     "output_type": "stream",
     "text": [
      "Средние частоты нуклеотидов вне CpG островков:\n",
      "A: 0.2893\n",
      "C: 0.1961\n",
      "G: 0.1984\n",
      "T: 0.3161\n",
      "\n",
      "Средние частоты пар нуклеотидов вне CpG островков:\n",
      "AA: 0.0899\n",
      "AC: 0.0471\n",
      "AG: 0.0702\n",
      "AT: 0.0821\n",
      "CA: 0.0682\n",
      "CC: 0.0500\n",
      "CG: 0.0053\n",
      "CT: 0.0727\n",
      "GA: 0.0602\n",
      "GC: 0.0342\n",
      "GG: 0.0501\n",
      "GT: 0.0539\n",
      "TA: 0.0710\n",
      "TC: 0.0648\n",
      "TG: 0.0729\n",
      "TT: 0.1075\n"
     ]
    }
   ],
   "source": [
    "nonIslands_nucl, nonIslands_pair = file_frequency(\"./data/nonIslands.fasta\", alphabet)\n",
    "print(\"Средние частоты нуклеотидов вне CpG островков:\")\n",
    "for nucl, freq in sorted(nonIslands_nucl.items()):\n",
    "    print(f\"{nucl}: {freq:.4f}\")\n",
    "\n",
    "print(\"\\nСредние частоты пар нуклеотидов вне CpG островков:\")\n",
    "for pair, freq in sorted(nonIslands_pair.items()):\n",
    "    print(f\"{pair}: {freq:.4f}\")"
   ]
  },
  {
   "cell_type": "markdown",
   "metadata": {},
   "source": [
    "#### Сравнение частоты пары CG внутри островков и снаружи"
   ]
  },
  {
   "cell_type": "code",
   "execution_count": 82,
   "metadata": {},
   "outputs": [
    {
     "name": "stdout",
     "output_type": "stream",
     "text": [
      "Частота CG внутри островков: 0.05898381356980459\n",
      "Частота CG вне островков: 0.0052779765716222836\n"
     ]
    }
   ],
   "source": [
    "print(\"Частота CG внутри островков:\", islands_pair['CG'])\n",
    "print(\"Частота CG вне островков:\", nonIslands_pair['CG'])"
   ]
  },
  {
   "cell_type": "code",
   "execution_count": 84,
   "metadata": {},
   "outputs": [
    {
     "data": {
      "text/plain": [
       "11.175459528740353"
      ]
     },
     "execution_count": 84,
     "metadata": {},
     "output_type": "execute_result"
    }
   ],
   "source": [
    "islands_pair['CG']/nonIslands_pair['CG']"
   ]
  },
  {
   "cell_type": "markdown",
   "metadata": {},
   "source": [
    "Вывод: частота пары CG в CpG-островках в 11 раз выше, чем в обычных участках генома."
   ]
  },
  {
   "cell_type": "markdown",
   "metadata": {},
   "source": [
    "## Задача №2 (2)\n",
    "Напишите марковскую модель, которая имеет открытые состояния {A, T, G, C}, и скрытые состояния {+, -}. Когда модель в состоянии **+**, то вероятность генерации некоторого символа нуклеотида соответствует его частоте внутри CpG островков, вычислиному в первом задании, если состояние **-**, то частоте вне островков. Вероятность остаться внутри островка 0.95, а перейти в обычный геном 0.05. Для остальной части генома соответствующие вероятности 0.995 и 0.005. Саму модель можно реализовать в виде итератора, определив метод next, который возвращает пару - состояние и нуклеотид, который в этом состоянии произведен.    \n",
    "Воспользуйтесь данной моделью для того чтобы сгенерировать набор из 20 последовательностей длинной от 1 000 до 100 000, причем к каждой последовательности должна прилагаться последовательность состояний."
   ]
  },
  {
   "cell_type": "code",
   "execution_count": 280,
   "metadata": {},
   "outputs": [],
   "source": [
    "class hidden_Markov_model:\n",
    "    def __init__(self, generate_len, islands_freq, nonIslands_freq):\n",
    "        self.generate_len = generate_len\n",
    "        self.curr_len = 0\n",
    "        self.alphabet_nucleotide = list(islands_freq.keys())\n",
    "        self.alphabet_states = ['+', '-']\n",
    "        self.emission_probs = {self.alphabet_states[0]: list(islands_freq.values()), \n",
    "                               self.alphabet_states[1]: list(nonIslands_freq.values())}\n",
    "        self.transition_probs = {self.alphabet_states[0]: [0.95, 0.05], # + -\n",
    "                                 self.alphabet_states[1]: [0.005, 0.995]} # + -\n",
    "        self.curr_state = np.random.choice(self.alphabet_states, p=[0.1, 0.9])\n",
    "    \n",
    "    def __next__(self):\n",
    "        if self.curr_len >= self.generate_len:\n",
    "            raise StopIteration\n",
    "            \n",
    "        nucleotide = np.random.choice(self.alphabet_nucleotide,\n",
    "                                      p=self.emission_probs[self.curr_state])\n",
    "        next_state = np.random.choice(self.alphabet_states,\n",
    "                                      p=self.transition_probs[self.curr_state])\n",
    "        \n",
    "        output = (self.curr_state, nucleotide)\n",
    "        self.curr_len += 1\n",
    "        self.curr_state = next_state\n",
    "        return output\n",
    "\n",
    "    def __iter__(self):\n",
    "        return self\n",
    "\n",
    "def generate_sequence(generate_len, islands_freq, nonIslands_freq):\n",
    "    generator = hidden_Markov_model(generate_len, islands_freq, nonIslands_freq)\n",
    "    states, sequence = zip(*generator)\n",
    "    return list(states), list(sequence)"
   ]
  },
  {
   "cell_type": "code",
   "execution_count": 281,
   "metadata": {},
   "outputs": [],
   "source": [
    "filename_generated_seq = \"./data/generated_HMM_sequences.txt\""
   ]
  },
  {
   "cell_type": "code",
   "execution_count": 282,
   "metadata": {},
   "outputs": [],
   "source": [
    "with open(filename_generated_seq, 'w') as f:\n",
    "    for generate_len in range(1000, 100001, 4950): # ровно 20 последовательностей\n",
    "        states, sequence = generate_sequence(generate_len, islands_nucl, nonIslands_nucl)\n",
    "        f.write(f\">{len(sequence)}\\n\")\n",
    "        f.write(f\"{''.join(sequence)}\\n\")\n",
    "        f.write(f\"{''.join(states)}\\n\")\n",
    "        f.write(\"\\n\")"
   ]
  },
  {
   "cell_type": "markdown",
   "metadata": {},
   "source": [
    "Пример генерации:"
   ]
  },
  {
   "cell_type": "code",
   "execution_count": 283,
   "metadata": {},
   "outputs": [
    {
     "name": "stdout",
     "output_type": "stream",
     "text": [
      ">1000\n",
      "GCGGGAACCGTTTATACCTCCAAATTAGTTAAATAAGTCACAACGGATATGTAATGGAATATCTCATATATTTCCGGCCTCCTTGAATGTTTATTCAAAAGCGTTTGAGGATTTGCCTTTTTAGCTGTCGATAGCTTCTGGTTTAGCAATCATTTTGGTATGCCACACAGAGATAAATCGACCTTGGAAATTTAGACAAAAGTGGGATGAGTTGGCTATAATACCCGCTGCAGGTGTTCAAGTCGACAGGTCCGGTGTGGGGCATGCTCGTTGAGCATCAATCAATGCGGACGTGGTGTATTAAAGTCAATACATTAGGCTGACGCTTTTTATTTGTGGTTTGTAATCCACTCTTTTCAAATAGAATTCAGATCTAAGCGTTATTCAAATACGTCCCTTCACGTGGTGCACAACGCTCTAGCGATGGCCTCTGGGGTCAGCCACCATACAAAGGTGACGGTCTAGAACTCGGTCCGGGGGTTCCTTCATTGAGTGTATATCGGCATTAGCCACATCCGTTTTTTTTTATTGTAACCTTGAAGGGTATCTGTCATGCCGGTGACTTGACCCGAGTATCCGGTAAGTGCTCCCGGCCGCGTCTTGGCGCTCTGCTTATCGCTCTCGACGTTAGTTTACTCGGGCTTAGGAGTATCCAGTTCCTACGTGACTTTTAGACTAATTCTTTGCCTAGATGAGATCTAATTGATGATATGGAGAAAGTTAGTATTCGATATCCTGCCATGCAGGAACGACCTCTCCGTACCGATTAGAAGAGAACACACTCAATTAGCATCATATTTGGTTGTCAGATGATTTATGTCTTATTCCTCTTAATGTCCCTATAATTTAGGGTGACTCTTTATCCCAAGTCCGTTTTCAGCCTTTCTTATTTATTGCGGTAAGTTGTTTTGGTGAACAAAAATAAAAACTACCCTTTAACGGTTGTAGATTTAATATTTTACTGGAGACACAGTCTTTTATCAAGGTCCTTTGGGTGAAA\n",
      "+++++++++-------------------------------------------------------------------------------------------------------------------++++++++-------------------------------------------------------------------------------------------++++++++++++++++++++++++++++++++++++++++++++++++++++++++++++++++++++++++++++----------------------------------------------------------------------------------------------------------------------------------------------------------------------------------------------------------------------------------------------++++++++++++++++++++++++++++++++++++++++++++++++++++++++++++++++++++-----------------------------------------------------------------------------------------------------------------------------------------------------------------------------------------------------------------------------------------------------------------------------------------------------------------------------------------------------------------------------------------------------------\n"
     ]
    }
   ],
   "source": [
    "states, sequence = generate_sequence(1000, islands_nucl, nonIslands_nucl)\n",
    "print(f\">{len(sequence)}\")\n",
    "print(f\"{''.join(sequence)}\")\n",
    "print(f\"{''.join(states)}\")"
   ]
  },
  {
   "cell_type": "markdown",
   "metadata": {},
   "source": [
    "## Задача №3 (4)\n",
    "Напишите алгоритм Витерби для восстановления последовательности скрытых состояний марковской модели из второго задаания. Воспользуйтесь им, воссстановив состояния тех последовательностей, которые вы получили во втором задании и посчитайте TP, TN, FP, FN по количеству правильно или ошибочно предсказанных позиций из CpG остравков. "
   ]
  },
  {
   "cell_type": "code",
   "execution_count": 284,
   "metadata": {},
   "outputs": [],
   "source": [
    "class Viterbi():\n",
    "    def __init__(self, sequence, states, transition_probs, emission_probs, init_states_probs):\n",
    "        self.sequence = sequence\n",
    "        self.states = states\n",
    "        self.transition_probs = transition_probs\n",
    "        self.emission_probs = emission_probs\n",
    "        self.init_states_probs = init_states_probs\n",
    "        self.n_states = len(transition_probs[0])\n",
    "\n",
    "    def viterbi(self):\n",
    "        len_seq = len(self.sequence)\n",
    "\n",
    "        # вероятность, что на предыдущем шаге находимся в состоянии self.alphabet_states[i]\n",
    "        prev_state_prob = np.full(self.n_states, -np.inf)\n",
    "        # сохраняем путь для каждого из состояний\n",
    "        prev_path = np.zeros((self.n_states, len_seq), dtype='int')\n",
    "\n",
    "        # заполняем для начальных состояний\n",
    "        for j in range(self.n_states):\n",
    "            prev_state_prob[j] = np.log(self.init_states_probs[j]) + np.log(self.emission_probs[j][self.sequence[0]])\n",
    "            prev_path[j, 0] = j\n",
    "\n",
    "        for i in range(1, len_seq):\n",
    "            curr_state_prob = np.full(self.n_states, -np.inf)\n",
    "            curr_path = np.zeros((self.n_states, len_seq), dtype='int')\n",
    "\n",
    "            for j in range(self.n_states):  # текущее состояние\n",
    "                max_prob = -np.inf\n",
    "                # индекс наиболее вероятного состояния предыдущего шага для текущего состояния\n",
    "                prev_state = 0\n",
    "                for k in range(self.n_states):  # предыдущее состояние\n",
    "                    prob = prev_state_prob[k] + np.log(self.transition_probs[k][j]) + np.log(\n",
    "                        self.emission_probs[j][self.sequence[i]])\n",
    "                    if prob > max_prob:\n",
    "                        max_prob = prob\n",
    "                        prev_state = k\n",
    "                        \n",
    "                curr_state_prob[j] = max_prob\n",
    "                # копирование пути, который был до лучшего предыдущего состояния\n",
    "                curr_path[j, :i] = prev_path[prev_state, :i]\n",
    "                curr_path[j, i] = j\n",
    "\n",
    "            prev_state_prob = curr_state_prob\n",
    "            prev_path = curr_path\n",
    "\n",
    "        final_state = np.argmax(prev_state_prob)\n",
    "        return prev_path[final_state]\n",
    "\n",
    "    def eval_viterbi(self):\n",
    "        restored_states = self.viterbi()\n",
    "        TP, TN, FP, FN = 0, 0, 0, 0\n",
    "        for i in range(len(self.sequence)):\n",
    "            if restored_states[i] == 0 and self.states[i] == '+':\n",
    "                TP += 1\n",
    "            elif restored_states[i] == 0 and self.states[i] == '-':\n",
    "                FP += 1\n",
    "            elif restored_states[i] == 1 and self.states[i] == '-':\n",
    "                TN += 1\n",
    "            elif restored_states[i] == 1 and self.states[i] == '+':\n",
    "                FN += 1\n",
    "        width = 10\n",
    "        return f'TP: {str(TP).ljust(width)}TN: {str(TN).ljust(width)}FP: {str(FP).ljust(width)}FN: {FN}\\n'"
   ]
  },
  {
   "cell_type": "code",
   "execution_count": 285,
   "metadata": {},
   "outputs": [],
   "source": [
    "transition_probs = np.array([[0.95, 0.05], [0.005, 0.995]])  # + -\n",
    "emission_probs = [islands_nucl, nonIslands_nucl]\n",
    "init_states_probs = [0.1, 0.9]"
   ]
  },
  {
   "cell_type": "markdown",
   "metadata": {},
   "source": [
    "После знака \">\" записана длина последовательности.\n",
    "\n",
    "TP - правильно предсказанное состояние '+', то есть состояние нахождения внутри CpG-островка.  \n",
    "FP - правильно предсказанное состояние '-', то есть состояние нахождения вне CpG-островка."
   ]
  },
  {
   "cell_type": "code",
   "execution_count": 286,
   "metadata": {},
   "outputs": [
    {
     "name": "stdout",
     "output_type": "stream",
     "text": [
      ">1000\n",
      "TP: 0         TN: 935       FP: 0         FN: 65\n",
      "\n",
      ">5950\n",
      "TP: 0         TN: 5298      FP: 0         FN: 652\n",
      "\n",
      ">10900\n",
      "TP: 78        TN: 9693      FP: 1         FN: 1128\n",
      "\n",
      ">15850\n",
      "TP: 258       TN: 13788     FP: 33        FN: 1771\n",
      "\n",
      ">20800\n",
      "TP: 155       TN: 18570     FP: 17        FN: 2058\n",
      "\n",
      ">25750\n",
      "TP: 115       TN: 23616     FP: 7         FN: 2012\n",
      "\n",
      ">30700\n",
      "TP: 116       TN: 28430     FP: 2         FN: 2152\n",
      "\n",
      ">35650\n",
      "TP: 313       TN: 32343     FP: 197       FN: 2797\n",
      "\n",
      ">40600\n",
      "TP: 68        TN: 37169     FP: 2         FN: 3361\n",
      "\n",
      ">45550\n",
      "TP: 99        TN: 40889     FP: 8         FN: 4554\n",
      "\n",
      ">50500\n",
      "TP: 371       TN: 45711     FP: 91        FN: 4327\n",
      "\n",
      ">55450\n",
      "TP: 504       TN: 50219     FP: 59        FN: 4668\n",
      "\n",
      ">60400\n",
      "TP: 571       TN: 54566     FP: 145       FN: 5118\n",
      "\n",
      ">65350\n",
      "TP: 268       TN: 59983     FP: 73        FN: 5026\n",
      "\n",
      ">70300\n",
      "TP: 360       TN: 64459     FP: 83        FN: 5398\n",
      "\n",
      ">75250\n",
      "TP: 157       TN: 68187     FP: 51        FN: 6855\n",
      "\n",
      ">80200\n",
      "TP: 305       TN: 73475     FP: 8         FN: 6412\n",
      "\n",
      ">85150\n",
      "TP: 442       TN: 77089     FP: 100       FN: 7519\n",
      "\n",
      ">90100\n",
      "TP: 465       TN: 81609     FP: 59        FN: 7967\n",
      "\n",
      ">95050\n",
      "TP: 508       TN: 85991     FP: 127       FN: 8424\n",
      "\n",
      ">100000\n",
      "TP: 375       TN: 91642     FP: 15        FN: 7968\n",
      "\n"
     ]
    }
   ],
   "source": [
    "with open(filename_generated_seq, 'r') as f:\n",
    "    while True:\n",
    "        header = f.readline().strip()\n",
    "        if not header:\n",
    "            break\n",
    "            \n",
    "        sequence = f.readline().strip()\n",
    "        states = f.readline().strip()\n",
    "        _ = f.readline()\n",
    "\n",
    "        print(header)\n",
    "        print(Viterbi(sequence, states, transition_probs, emission_probs, init_states_probs).eval_viterbi())"
   ]
  },
  {
   "cell_type": "markdown",
   "metadata": {},
   "source": [
    "## Задача №4 (4)\n",
    "Напишите алгоритм вперед назад для модели из второго задания. Пользуясь этим алгоритмом найдите вероятности того, что модель находилась в состоянии **+** для каждой позиции строк из второго задания. Устанавливая различные пороговые значения, определите позиции соответствующие CpG островкам и посчитайте TP. Постройте график зависимости TP от выбранного порогового значения. Есть ли пороговые значения при которых TP больше чем в задании №3?"
   ]
  }
 ],
 "metadata": {
  "kernelspec": {
   "display_name": "Python 3 (ipykernel)",
   "language": "python",
   "name": "python3"
  },
  "language_info": {
   "codemirror_mode": {
    "name": "ipython",
    "version": 3
   },
   "file_extension": ".py",
   "mimetype": "text/x-python",
   "name": "python",
   "nbconvert_exporter": "python",
   "pygments_lexer": "ipython3",
   "version": "3.9.4"
  }
 },
 "nbformat": 4,
 "nbformat_minor": 4
}
