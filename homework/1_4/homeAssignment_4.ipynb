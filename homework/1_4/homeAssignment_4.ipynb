{
 "cells": [
  {
   "cell_type": "markdown",
   "metadata": {
    "collapsed": false
   },
   "source": [

    "\n",
    "Это домашнее задание можно выполнять целиком в этом ноутбуке, либо алгоритмы написать в отдельном файле и импортировать сюда, для использования. В папке data лежат два файла islands.fasta и nonIslands.fasta. В них хранятся прочтения из CpG островков и из обычных участков генома соответственно, этими данными нужно будет воспользоваться в первом задании."

   ]
  },
  {
   "cell_type": "markdown",

   "metadata": {},
   "source": [
    "## Задача №1 (1)\n",
    "Определите частоты генерации для каждого из нуклеотидов внутри CpG островков и вне их. Посчитайте так-же частоты для всех упорядоченных пар нуклеотидов и сравните частоту пары CG внутри островков и снаружи. Сделайте вывод. "
   ]
  },
  {
   "cell_type": "code",
   "execution_count": 2,
   "metadata": {},
   "outputs": [
    {
     "name": "stdout",
     "output_type": "stream",
     "text": [
      "\n",
      "scanning ./data/islands.fasta\n",
      "A was found in 20% nucleotides\n",
      "C was found in 30% nucleotides\n",
      "G was found in 30% nucleotides\n",
      "T was found in 20% nucleotides\n",
      "\n",
      "scanning ./data/nonIslands.fasta\n",
      "A was found in 29% nucleotides\n",
      "C was found in 20% nucleotides\n",
      "G was found in 20% nucleotides\n",
      "T was found in 32% nucleotides\n",
      "\n",
      "scanning ./data/islands.fasta\n",
      "pair AA was found in rounded 5% pairs\n",
      "pair AC was found in rounded 5% pairs\n",
      "pair AG was found in rounded 7% pairs\n",
      "pair AT was found in rounded 3% pairs\n",
      "pair CA was found in rounded 6% pairs\n",
      "pair CC was found in rounded 10% pairs\n",
      "pair CG was found in rounded 6% pairs\n",
      "pair CT was found in rounded 7% pairs\n",
      "pair GA was found in rounded 6% pairs\n",
      "pair GC was found in rounded 9% pairs\n",
      "pair GG was found in rounded 10% pairs\n",
      "pair GT was found in rounded 5% pairs\n",
      "pair TA was found in rounded 3% pairs\n",
      "pair TC was found in rounded 6% pairs\n",
      "pair TG was found in rounded 6% pairs\n",
      "pair TT was found in rounded 5% pairs\n",
      "precisely, percent of GC pairs was 8.8%, \n",
      "compared to expected 6.2%.\n",
      "--finished scanning file--\n",
      "\n",
      "\n",
      "scanning ./data/nonIslands.fasta\n",
      "pair AA was found in rounded 9% pairs\n",
      "pair AC was found in rounded 5% pairs\n",
      "pair AG was found in rounded 7% pairs\n",
      "pair AT was found in rounded 8% pairs\n",
      "pair CA was found in rounded 7% pairs\n",
      "pair CC was found in rounded 5% pairs\n",
      "pair CG was found in rounded 1% pairs\n",
      "pair CT was found in rounded 7% pairs\n",
      "pair GA was found in rounded 6% pairs\n",
      "pair GC was found in rounded 3% pairs\n",
      "pair GG was found in rounded 5% pairs\n",
      "pair GT was found in rounded 5% pairs\n",
      "pair TA was found in rounded 7% pairs\n",
      "pair TC was found in rounded 6% pairs\n",
      "pair TG was found in rounded 7% pairs\n",
      "pair TT was found in rounded 11% pairs\n",
      "precisely, percent of GC pairs was 3.4%, \n",
      "compared to expected 6.2%.\n",
      "--finished scanning file--\n",
      "\n"
     ]
    }
   ],
   "source": [
    "# count dict all nucleotides\n",
    "#kinda like GC content..\n",
    "from code123 import percentage, pair_percentage\n",
    "islands_p = \"./data/islands.fasta\"\n",
    "genome_p = \"./data/nonIslands.fasta\"\n",
    "# read_and_print_fasta_GENERAL(islands_p,3,10)\n",
    "\n",
    "percentage(islands_p)\n",
    "percentage(genome_p)\n",
    "\n",
    "pair_percent_isles = pair_percentage(islands_p, verbose=1)\n",
    "pair_percent_Genome = pair_percentage(genome_p, verbose=1)\n",
    "\n"

   ]
  },
  {
   "cell_type": "markdown",
   "metadata": {},
   "source": [
    "## Задача №2 (2)\n",

    "Напишите марковскую модель, которая имеет открытые состояния {A, T, G, C}, и скрытые состояния {+, -}. Когда модель в состоянии **+**, то вероятность генерации некоторого символа нуклеотида соответствует его частоте внутри CpG островков, вычислиному в первом задании, если состояние **-**, то частоте вне островков. Вероятность остаться внутри островка 0.95, а перейти в обычный геном 0.05. \n",
    "\n",
    "Для остальной части генома соответствующие вероятности 0.995 и 0.005. Саму модель можно реализовать в виде итератора, определив метод next, который возвращает пару - состояние и нуклеотид, который в этом состоянии произведен. \n",
    "   \n",

    "Воспользуйтесь данной моделью для того чтобы сгенерировать набор из 20 последовательностей длинной от 1 000 до 100 000, причем к каждой последовательности должна прилагаться последовательность состояний."
   ]
  },
  {

   "cell_type": "code",
   "execution_count": 3,
   "metadata": {},
   "outputs": [
    {
     "name": "stdout",
     "output_type": "stream",
     "text": [
      "Generated sequence of len 10.\n",
      "Generated sequence of len 50.\n",
      "Generated sequence of len 100.\n",
      "finished\n"
     ]
    }
   ],
   "source": [
    "#19 because length numbers are better looking this way. That can be changed for tests.\n",
    "import numpy as np\n",
    "from code123 import hidden_markov\n",
    "out_file = 'genseqs.txt'\n",
    "lengths = [10,50,100]\n",
    "# lengths = np.linspace(start=1000, stop=100000, num=19, endpoint=True, retstep=False, dtype=int, axis=0)\n",
    "for L in lengths:\n",
    "    hidden_markov(pair_percent_isles, pair_percent_Genome, n = L, out=out_file)\n",
    "print(\"finished\")"
   ]
  },
  {
   "cell_type": "markdown",
   "metadata": {},
   "source": [
    "## Задача №3 (4)\n",
    "Напишите алгоритм Витерби для восстановления последовательности скрытых состояний марковской модели из второго задаания. Воспользуйтесь им, воссстановив состояния тех последовательностей, которые вы получили во втором задании и посчитайте TP, TN, FP, FN по количеству правильно или ошибочно предсказанных позиций из CpG остравков. "
   ]
  },
  {
   "cell_type": "markdown",
   "metadata": {},
   "source": [
    "## Задача №4 (4)\n",
    "Напишите алгоритм вперед назад для модели из второго задания. Пользуясь этим алгоритмом найдите вероятности того, что модель находилась в состоянии **+** для каждой позиции строк из второго задания. Устанавливая различные пороговые значения, определите позиции соответствующие CpG островкам и посчитайте TP. Постройте график зависимости TP от выбранного порогового значения. Есть ли пороговые значения при которых TP больше чем в задании №3?"
   ]
  }
 ],
 "metadata": {
  "kernelspec": {

   "display_name": "Python 3",

   "language": "python",
   "name": "python3"
  },
  "language_info": {
   "codemirror_mode": {
    "name": "ipython",
    "version": 3
   },
   "file_extension": ".py",
   "mimetype": "text/x-python",
   "name": "python",
   "nbconvert_exporter": "python",
   "pygments_lexer": "ipython3",

   "version": "3.8.6"
  }
 },
 "nbformat": 4,
 "nbformat_minor": 4
}
