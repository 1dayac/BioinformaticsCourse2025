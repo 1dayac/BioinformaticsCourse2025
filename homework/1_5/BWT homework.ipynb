{
 "cells": [
  {
   "cell_type": "markdown",
   "id": "8efa579ff07e2f65",
   "metadata": {
    "collapsed": false
   },
   "source": [
    "### BWT Homework"
   ]
  },
  {
   "cell_type": "markdown",
   "id": "198d918c9ae8d77f",
   "metadata": {
    "collapsed": false
   },
   "source": [
    "Today we will construct BWT from scratch. First we will construct a suffix array for a given string using pysuffixarray.\n"
   ]
  },
  {
   "cell_type": "code",
   "execution_count": 14,
   "id": "6f97bdc41ac10703",
   "metadata": {
    "ExecuteTime": {
     "end_time": "2025-05-24T07:34:02.356947687Z",
     "start_time": "2025-05-24T07:34:01.774292066Z"
    },
    "collapsed": false
   },
   "outputs": [
    {
     "name": "stdout",
     "output_type": "stream",
     "text": [
      "Requirement already satisfied: pysuffixarray in /Users/user/hse/bioinf/bio/lib/python3.13/site-packages (0.0.1)\n",
      "\n",
      "\u001b[1m[\u001b[0m\u001b[34;49mnotice\u001b[0m\u001b[1;39;49m]\u001b[0m\u001b[39;49m A new release of pip is available: \u001b[0m\u001b[31;49m25.0.1\u001b[0m\u001b[39;49m -> \u001b[0m\u001b[32;49m25.1.1\u001b[0m\n",
      "\u001b[1m[\u001b[0m\u001b[34;49mnotice\u001b[0m\u001b[1;39;49m]\u001b[0m\u001b[39;49m To update, run: \u001b[0m\u001b[32;49mpip install --upgrade pip\u001b[0m\n",
      "[6, 2, 0, 3, 1, 4, 5]\n"
     ]
    }
   ],
   "source": [
    "! pip install pysuffixarray\n",
    "\n",
    "from pysuffixarray.core import SuffixArray\n",
    "suffix_array = SuffixArray('ACAACG')\n",
    "print(suffix_array.suffix_array())"
   ]
  },
  {
   "cell_type": "markdown",
   "id": "61d26d5b77ddc452",
   "metadata": {
    "collapsed": false
   },
   "source": [
    "## Task 1: Create BWT using suffix array:\n",
    "\n",
    "- Using BioPython upload SARS-CoV-2 reference genome from fasta file (genome.fa in BWT_folder)\n",
    "- Construct suffix array\n",
    "- Construct BWT from suffix array\n",
    "- Don't forget to add special symbol (but after SA construction)"
   ]
  },
  {
   "cell_type": "markdown",
   "id": "6f8f14ef68ffebdc",
   "metadata": {
    "collapsed": false
   },
   "source": [
    "![correct](BWT_folder/BWT1.png)"
   ]
  },
  {
   "cell_type": "code",
   "execution_count": null,
   "id": "cddf9732",
   "metadata": {},
   "outputs": [
    {
     "name": "stdout",
     "output_type": "stream",
     "text": [
      "Requirement already satisfied: biopython in /Users/user/hse/bioinf/bio/lib/python3.13/site-packages (1.85)\n",
      "Requirement already satisfied: numpy in /Users/user/hse/bioinf/bio/lib/python3.13/site-packages (from biopython) (2.2.4)\n",
      "\n",
      "\u001b[1m[\u001b[0m\u001b[34;49mnotice\u001b[0m\u001b[1;39;49m]\u001b[0m\u001b[39;49m A new release of pip is available: \u001b[0m\u001b[31;49m25.0.1\u001b[0m\u001b[39;49m -> \u001b[0m\u001b[32;49m25.1.1\u001b[0m\n",
      "\u001b[1m[\u001b[0m\u001b[34;49mnotice\u001b[0m\u001b[1;39;49m]\u001b[0m\u001b[39;49m To update, run: \u001b[0m\u001b[32;49mpip install --upgrade pip\u001b[0m\n"
     ]
    }
   ],
   "source": [
    "! pip install biopython\n",
    "\n",
    "from Bio import SeqIO\n",
    "\n",
    "record = SeqIO.read(\"BWT_folder/genome.fa\", \"fasta\")\n",
    "seq = str(record.seq)\n",
    "suffix_array = sorted(range(len(seq)), key=lambda i: seq[i:])\n",
    "\n",
    "\n",
    "# BWT[i] = (idx == 0) ? '$' : seq[idx - 1], где idx = SA[i]\n",
    "bwt_chars = []\n",
    "for idx in suffix_array:\n",
    "    if idx == 0:\n",
    "        bwt_chars.append(\"$\")\n",
    "    else:\n",
    "        bwt_chars.append(seq[idx - 1])\n",
    "bwt = \"\".join(bwt_chars)\n",
    "\n",
    "with open(\"suffix_array.txt\", \"w\") as f_sa:\n",
    "    for pos in suffix_array:\n",
    "        f_sa.write(f\"{pos}\\n\")\n",
    "\n",
    "with open(\"bwt.txt\", \"w\") as f_bwt:\n",
    "    f_bwt.write(bwt)\n"
   ]
  },
  {
   "cell_type": "markdown",
   "id": "85d614e50924bb7",
   "metadata": {
    "collapsed": false
   },
   "source": [
    "## Task 2: Create FM index\n",
    "- Construct Occurence array\n",
    "- Construct Count dictionary\n",
    "- Make a class BWTSearcher"
   ]
  },
  {
   "cell_type": "markdown",
   "id": "9e230b6fbcfe242e",
   "metadata": {
    "collapsed": false
   },
   "source": [
    "![correct](BWT_folder/BWT3.png)"
   ]
  },
  {
   "cell_type": "code",
   "execution_count": null,
   "id": "d989f98c",
   "metadata": {},
   "outputs": [
    {
     "name": "stdout",
     "output_type": "stream",
     "text": [
      "Пример значений Occurrence:\n",
      "Символ '$': Occ[$][10] = 0\n",
      "Символ 'A': Occ[A][10] = 10\n",
      "Символ 'C': Occ[C][10] = 0\n",
      "Символ 'G': Occ[G][10] = 0\n",
      "Символ 'T': Occ[T][10] = 0\n",
      "\n",
      "Count dictionary (C):\n",
      "C['$'] = 0\n",
      "C['A'] = 1\n",
      "C['C'] = 8954\n",
      "C['G'] = 14446\n",
      "C['T'] = 20309\n",
      "Паттерн 'ATG' найден в интервале SA: [7456, 8180]\n"
     ]
    }
   ],
   "source": [
    "from collections import Counter\n",
    "\n",
    "\n",
    "with open(\"bwt.txt\", \"r\") as f:\n",
    "    bwt = f.read().strip()\n",
    "\n",
    "alphabet = sorted(set(bwt))\n",
    "\n",
    "freq = Counter(bwt)\n",
    "\n",
    "C = {}\n",
    "total = 0\n",
    "for c in alphabet:\n",
    "    C[c] = total\n",
    "    total += freq[c]\n",
    "\n",
    "Occ = {c: [0]*(len(bwt)+1) for c in alphabet}\n",
    "\n",
    "for i, char in enumerate(bwt, start=1):\n",
    "    for c in alphabet:\n",
    "        Occ[c][i] = Occ[c][i-1] + (1 if char == c else 0)\n",
    "\n",
    "class BWTSearcher:\n",
    "    def __init__(self, bwt_string):\n",
    "        self.bwt = bwt_string\n",
    "        self.n = len(bwt_string)\n",
    "        \n",
    "        from collections import Counter\n",
    "        self.alphabet = sorted(set(self.bwt))\n",
    "        freq = Counter(self.bwt)\n",
    "    \n",
    "        self.C = {}\n",
    "        total = 0\n",
    "        for c in self.alphabet:\n",
    "            self.C[c] = total\n",
    "            total += freq[c]\n",
    "        \n",
    "        self.Occ = {c: [0]*(self.n + 1) for c in self.alphabet}\n",
    "        for i, ch in enumerate(self.bwt, start=1):\n",
    "            for c in self.alphabet:\n",
    "                self.Occ[c][i] = self.Occ[c][i-1] + (1 if ch == c else 0)\n",
    "    \n",
    "    def occ(self, c, pos):\n",
    "        if c not in self.Occ:\n",
    "            return 0\n",
    "        return self.Occ[c][pos]\n",
    "    \n",
    "    def backward_search(self, pattern):\n",
    "        l = 0\n",
    "        r = self.n - 1\n",
    "        \n",
    "        for ch in reversed(pattern):\n",
    "            if ch not in self.C:\n",
    "                return None, None\n",
    "            l = self.C[ch] + self.occ(ch, l)\n",
    "            r = self.C[ch] + self.occ(ch, r + 1) - 1\n",
    "            if l > r:\n",
    "                return None, None\n",
    "        \n",
    "        return l, r\n",
    "\n",
    "# TEST\n",
    "bwt_searcher = BWTSearcher(bwt)\n",
    "pattern = \"ATG\"\n",
    "l, r = bwt_searcher.backward_search(pattern)\n",
    "if l is None:\n",
    "    print(f\"Паттерн '{pattern}' НЕ найден.\")\n",
    "else:\n",
    "    print(f\"Паттерн '{pattern}' найден в интервале SA: [{l}, {r}]\")\n"
   ]
  },
  {
   "cell_type": "markdown",
   "id": "81e61f0541bc7ee5",
   "metadata": {
    "collapsed": false
   },
   "source": [
    "### Task 4:\n",
    "- There are 100 reads that were randomly sampled from genome.fa\n",
    "- Some of them are error free, some contain one mutation, and some contain 5 mutations\n",
    "- Could you use your BWTSearcher class to classify them? Think about the solution and implement it. You can add any functions of class members\n",
    "- How many reads of each class did you find?"
   ]
  },
  {
   "cell_type": "code",
   "execution_count": 5,
   "id": "eb470521f0d8cfa6",
   "metadata": {
    "ExecuteTime": {
     "end_time": "2025-05-24T07:34:07.104074478Z",
     "start_time": "2025-05-24T07:34:07.045213399Z"
    },
    "collapsed": false
   },
   "outputs": [
    {
     "name": "stdout",
     "output_type": "stream",
     "text": [
      "Processing read: TATGGACAACTCACCTAATTTAGCATGGCCTCTTATTGTAACAGCTTTAAGGGCCAATCCTTCTGTAAAATTACAGAATAATGATCTTAGTCCTGTTGCA\n",
      "Processing read: TTGTGTTCCCTTGAACATAATACCTCTTACAACAGCAGCCAAACTAATGGTTGTCATACCAGACTATAACACATATAAAAATACGTTTGATGGTACAACA\n",
      "Processing read: AGTGTTACCACAGAGATTCTACCTGTTTCTATGACCAAGACATGAGTAGATTGTACAATGTACATTTGTGGTGATTCAACTGAATGCAGCAATCTCTTGT\n",
      "Processing read: AAAGGGGTAAGGCTAGACTTTATAATGATTCAATGAGTTATGAGGATCAAGATGCACTTTTCGCATATACAACATGTAATGTCATCCCTACTATCACTCA\n",
      "Processing read: TTTTGATAAATGCAAAGTGAATTCAACATTAGAACAGTATGTCTTTTGTACTGTAAATGCATTGCCTGAGACGACAGCAGATATAGTTGTCTTTGATGAA\n",
      "Processing read: AGTTGGTAACATCTGTTACACACCATCAAAACTTATAGAGTACACTGACTTTGCAACATCAGCTTGTGTTTTGGCTGCTGAATGTACAATTTTTAAAGAT\n",
      "Processing read: TTAAAACTCTTTGACCGTTATTTTAAATATTGGGATCAGACATACCACCCAAATTGTGTTAACTGTTTGGATCACAGATGCATTCTGCATTGTGCAAACT\n",
      "Processing read: TGTTGAAGGTTTTAATTGTTACTTTCCTTTACAATCATAGGGTTTCCAACCCACTAATGGTGTTGGTTACCAACCATACAGAGTAGTAGTACTTTCTTTT\n",
      "Processing read: TACAAATTAAATGTTGGTGATTATTTTGTGCTGACATCACATACAGTAATGCCATTAAGTGCACCTACACTAGTGCCACAAGAGCACTATGTTAGAATTA\n",
      "Processing read: TAAAATTGTTCAACTTAGTGAAATGAGTATGGACAATTCACCTAATTTAGCATGGCCTCTTATTGTAACAGCTTTAAGGGCCAATTCTGCTGTCAAATTA\n",
      "Processing read: TAGCACTTATGCATCTCAAGGTCTAGTGGCTAGCATAAAGAACTTTAAGTCTGTTCTTTATTAACAAAACAATGTTTTTATGTCGGAAGCAAAATTTAGG\n",
      "Processing read: ACTCTGTATGATGATGGTGCTAGGAGAGTGTGGACACTTATGAATGTCTTGACACTCGTTTATAAAGTTTATTATGGTAATGCTTTAGATCAAGCCATTT\n",
      "Processing read: TGGAGTTCATGCTGGCACAGACTTAGAAGGTAACTTTTATGGACCTTTTGTTGACAGGCAAACAGCACAAGCAGCTGGTACGGACACAACTATTACAGTT\n",
      "Processing read: TGATGGTGTTGTCCAACAATGACCTGAAACTTAAATTACTCAGAGTAGAAATTTACAAGAATTTAAACCCAGGAGTCAAATGGAAATGGATTTCTCAGAA\n",
      "Processing read: TTGAAGTCACCTAATTTTTCTAAACTGATAAATATTATAATTTGGTTTTGACTATTAAGTGTTTGCCTAGGTTCTTTAATCTACTCAACCGCTGCTTTAG\n",
      "Processing read: TAATGCGGCTTGTAGAAAGGTTCAACACATGGTTGTTAAAACTGCATTATTAGCAGACAAATTCCCAGTTCTTCACGACATTGGTAACCCTAAAGCTATT\n",
      "Processing read: TTGGTACCAATTTACCTTTACAGCTAGGTTTTTCTACAGGTGTTAGCCTAGTTGCTTTATCTACAGGTTATGTTGATACACCTAATAATACAATTTTTTC\n",
      "Processing read: ATAGAAGTTACTGGCGATAGTTGTAATAACTATATGCTCACCTATAACAAAGTTGAAAACATGACACCCCGTGACCTTGGTGCTTGTATTGACTGTAGTG\n",
      "Processing read: AAAGTGGGTGGTACTTGTGTTTTAAGCGGACTCAATCTTGCTAAACACTGACTTCATGTTGTCCGCCCAAATGTTAACAAAGGTGAAGACATCCAACTTC\n",
      "Processing read: GAGTTGTTAATCCAGTAATGGAACCAATTTATGATGAACTGACGACGACTACTAGCGTGCCTTTGTAAGCACAAGCTGATGAGTACGAACTTATGTACTC\n",
      "Processing read: TTTGGTGCTGACCCTATACATTCTTTAAGAGATTGTGTAGATACTGTTCGCACAAATGTCTACTTAGCTGTCTTTGATAAAAATCTCTATGACAAACTTG\n",
      "Processing read: TATTATGATTCAATGAGTTATGAGGATCAAGATGCACTTTTCGCATATACAAAACGTAATGTCATCCCTACTATAACTCAAATGAATCTTAAGTATGCCA\n",
      "Processing read: GATGTAGTTAACTTTAATCTCACATAGCAATCTTTAATCAGTGTGTAACATTAGGGAGGACTTGAAAGAGCCACCACATTTTCACCGAGGCCACGCGGAG\n",
      "Processing read: CGACGACTAGTAGCGTGCCTTTGTAAGCACAAGATGATGAGTACAATCTTATGTACTCATTCGTTTCGGAAGAGACTGGTACGTTAATAGTTAATAGCGT\n",
      "Processing read: CCAACAAAGGTTACTTTTGGTGATGACACTGTGATAGAAGTGCAAGGTTACAAGAGTGTGAATATCACTTTTGAACTTGATGAAAGGATTGATAACGTAC\n",
      "Processing read: GTGCACCACTCACTGACTTTTTTGATGGTAGAGTTGATGGTCAAGTAGACTTATTTAGAAATGCCCGTAATGGTGTTCTTATTACAGAAGGTAGTGTTAA\n",
      "Processing read: ATTCAAGGAGGAGTTAGATAAATATTTTAAGAATCATACATCACCAGATGTTGATTTAGGTGACATCTCTGGCATTAATGCTTCAGTTGTAAACATTCAA\n",
      "Processing read: CAAAATTGTGTACTTAAGCTTAAGGTTGATACAGCCAATCCTAAGACACCTAAGTATAAGTTTGTTCGCATTCAACCAGGACAGACTTTTTCAGTGTTAG\n",
      "Processing read: AGCTATAAGACATGTACGTGCATGGATTGGCTTCGATGTCGAGGGGTGTCATGCTACTAGAGAAGCTGTTGGTACCAATTTACCTTTACAGCTAGGTTTT\n",
      "Processing read: GTTATAGTTTTTGATGGTAAATCAAAATGTGAAGAATCATCTGCAAAATCAGCGTCTGTTTACTACAGTCAGCTTATGTGTCAACCTATACTGTTACTAG\n",
      "Processing read: TTTAATTTTAGCCATGGCAGATTCCAACGGTACTATTACCGTTGAAGAGCTTAAAAAGCTCCTTGAACAATGGAACCTAGTAATAGGTTTCCTATTCCTT\n",
      "Processing read: CTTTAATCTACTCAACCGCTGCTTTAGGTGTTTTAATGTCTAATTTAGGCATGCCTTCTTACTGTACTGGTTACAGAGAAGGCTATTTGAACTCTACTAA\n",
      "Processing read: CCTCAAAGATTTTGGGAGTACCAACTCAAACTGTTGATTCATCACAGGGCTCAGAATATGACTATGTCATATTCACTCAAACCACTGAAACAGCTCACTC\n",
      "Processing read: CTATAGGTCCAGACATGTTCCTCGGAACTTGTCGGCGTTGTCCTGCTGAAATTGTTGAGACTGTGAGTGCTTTGGTTTATGATAATAAGCTTAAAGCACA\n",
      "Processing read: TCATGTGTGGCGGTTCACTATATGTTAAACCAGGTGGAACCTCATCAGGAAATGCTACAACCGCTTGTGCTAATAGTGTTTTTAGCATTTGTCAAGCTGT\n",
      "Processing read: AAACCTTTGGAATTTGGTGCCACTTCTGCTGCTCTTCAACCTGAAGAAGAGCAAGAAGAAGATTGGTTAGATGATGATAGTCAACAAACTGTTGGTCAAC\n",
      "Processing read: ACTCATTCAAGGAGGAGTTAGATAAATATTTTAAGAATCATACATCACCAGATGTTGATTTAGGTGACATCTCTGGCATTAATGCTTCAGTTGTAAACAT\n",
      "Processing read: TATGCTAAATTCCTAAAAACTAATTGTTGTCGCTTCCAAGAAAAGGACGAAGATGACAATTTAATTGATTCTTACTTTGTAGTTAAGAGACACACTTTCT\n",
      "Processing read: GTAGCTTGTCACACCGTTTCTATAGATTAGCTAATGAGTGTGCTCAAGTATTGAGTGAAATGGTCATGTGTGGCGGTTCACTATATGTTAAACCAGGTGG\n",
      "Processing read: CAGCTTATTATGTGGGTTATCTTCAACCTAGGACTTTTCTATTAAAATATAATGAAAATGGAACCATTACAGATGCTGTAGACTGTGCACTTGACGCTCT\n",
      "Processing read: TACTACCGAAGAGCTACCAGACAAATTCGTGGTGGTGACGGTAAAATGAAAGATCTCAGTCCAAGATGGTATTTCTACTACCTAGGAACTGGGCCAGAAG\n",
      "Processing read: AAAGTGGAAATACCCACAAGTTAATGGTTTAACTTCTATTAAATGGGCAGATAACAACTGTTATCTTGCCACTGCATTGTTAACACTCCAACAAATAGCG\n",
      "Processing read: AGTGTTTTAAATGATATCCTTTCACGTCTTGACAAAGTTGAGGCTGAAGTGCAAATTGATAGGTTGATCACAGGCAGACTTCAAAGTTTGCAGACATATG\n",
      "Processing read: TTTTATTCTCTACAGTGTTCCAACCTACAAGTTTTGGACCACTAGTGAGAAAAATATTTGTTGATGGTGTTCCATTTGTAGTTTCAACTGGATACCACTT\n",
      "Processing read: GTAGGAATGAGGCAACTTTACAAGCTGAATATGTAACAGGACTCTTTAAAGATTGTAGTAAGGTTATCAGTGGGTCACATCCTACACAGGCACCTACACA\n",
      "Processing read: TAGCTCCAATTTTGGTGCAATTTCAAGTGTTTTAAATGATATCCTTTCACGTCTTGACAAAGTTGAGGCTGAAGTGCAAATTGATAGGTTGATCACAGGC\n",
      "Processing read: AGTCCAAGATGGTATTTCTACTACCTAGGAACTGGGCCAGAAGCTGGACTTCCCTATGGTGCTAACAAAGACGGCATCATATGGGTTGCAACTGAGGGAG\n",
      "Processing read: AAACAGTACAATTTTGTGATGCCATGCGAAATGCTGGTATTGTTGGTGTACTGACATTAGATAATCAAGATCTCAATGGTAACTGGTATGATTTCGGTGA\n",
      "Processing read: AAAAATTATTGAAATCAATAGCCGCCACTAGAGGAGCTACTGTAGTAATTCGAACAAGCAAATTCTATGGTGGTTGGCACAACATGTTAAAAACTGTTTA\n",
      "Processing read: GCTAAGCACTATGTGTACATTGGCGACCCTGCTCAATTACCTGCACCACGCACATTGCTAACTAAGGGCACACTAGAACCAGAATATTTCAATTCAGTGT\n",
      "Processing read: ATTTTGTGAAAATAGGACCTGAGCGCACCTGTTGTCTATGTGATAGACGTGCCACATGCTTTTCCACTGCTTCAGACACTTATGCCTGTTGGCATCATTC\n",
      "Processing read: AACACATGGTTGTTAAAGCTGCATTATTAGCAGACAAATTCCCAGTTCTTCACGACATTGGTAACCCTAAAGCTATTAAGTGTGTACCTCAAGCTGATGT\n",
      "Processing read: ATTTTATTGAAACTATCTCACTTGCTGGTTCCTATAAAGATTGGTCCTATTCTGGACAATCTTCACAACTATGTATAGAATTTCTTAAGAGAGGTGGTCA\n",
      "Processing read: TACTAATTGTTACGACTATTGTATACCTTACAATAGTGTAACTTCTTCATTTGTCATTACTTCAGGTGATGGCACAACAAGTCCTATTTCTGAACATGAC\n",
      "Processing read: AATGGCCATGGTACATTTGGCTAGGTTTTATAGCTGGCTTGATTGCCATAGTAATGGTGACAATTATGCTTTGCTGTATGACCAGTTGCTGTAGTTGTCT\n",
      "Processing read: ACACTCGCTATGTCGATAACAACTTCTGTGGCCCTGATGGCTACCCTCTTGAGTGCATTAAAGACCTTCTAGCACGTGCTGGTAAAGTTTCATGCACTTT\n",
      "Processing read: CACCAGTGACTCGTCTATCTTCTGCAGGTTGCTTACGGTTTCGTCCGTGTAGCAGCCGATCATCAGCACATCTTGGTTTCGTCCGGGTGTGACCGAAAGG\n",
      "Processing read: TTGTTATTTAAAACATACTGACAATGTATACATTAAGAATGAAGACATTGTAGAAGAAGCTAAAAAGGTAAAACCAACAGTGGTTGTTAATGCAGCCAAT\n",
      "Processing read: CCAGCGTGGTGGTAGTTATACTAATGACAAAGCTTGCCCATTGATTGCTGCAGTCATAACAAGAGAAGTGGGTTTTGTCGTGCCTGGTTTGCCTGGCACG\n",
      "Processing read: GTTTTGCCACCTTTGCTCACAGATGAAATGATTGCTCAATACACTTCTGCACTGTTAGCGGGTACAATCACTTCTGGTTGGACCTTTGGTGCAGGTGCTG\n",
      "Processing read: GCAGTTACACAACAACCATAAAACCAGTTACTTATAAATTGGATGGTGTTGTTTGTACAGAAATTGACCCTAAGTTGGACAATTATTATAAGAAAGACAA\n",
      "Processing read: TTTTCCCTGACTTAAATGGTGATGTGGTGGCTATTGATTATAAACACTACACACCCTCTTTTAAGAAAGGAGCTAAATTGTTACATAAACCTATTGTTTG\n",
      "Processing read: GCATTCCACACACCAGCTTTTGATAAAAGTGCTTTTGTTAATTTAAAACAATTACCATTTTTCTATTACTCTGACAGTCCATGTGAGTCTCATGGAAAAC\n",
      "Processing read: TTTATAATAAGTACAAGTATTTTGGTGGAGCAATGGATACAACTAGCTACAGAGAAGCTGCTTGTTGTCATCTCGCAAAGGCTCTCAATGACTTCAGTAA\n",
      "Processing read: TCGTTTATGGAGATTTTAGTCATAGTCAGTTAGGTGGTTTACATCTACTGATTGGACTAGCTAAACGTTTTAAGGAATCACCTTTTGAATTAGAAGATTT\n",
      "Processing read: TCTCTATCTGTAGTACTATGACCAATAGACAGTTTCATCAAAAATTATTGAAATCAATAGCCGCCACTAGAGGAGCTACTGGAGTAATTGGAACAAGCAA\n",
      "Processing read: TGAGAATAAATATTCTCAATTAGATGAAGAGCAACCAATGGAGATTGATTAAACGAACATGAAAATTATTCTTTTCTTGGCACTGATAACACTCGCTACT\n",
      "Processing read: AGGAAGACCTTAAATTCCCTCGAGGACAAGGCGTTCCAATTAACACCAATAGCAGTCCAGATGACCAAATTGGCTACTACCGAAGAGCTACCAGACGAAT\n",
      "Processing read: CGTACTGCCACTAAAGCATACAATGTAACACAAGCTTTCGGCAGACGTGGTCCAGAACAAACCCAAGGAAATTTTGGGGACCAGGAACTAATCAGACAAG\n",
      "Processing read: ACTGCCGCAATATTGTTATCGTGAGTCTTGTAAAACCTTCTTTTTACGTTTACTCTCGTGTTAAAAATTTGAATTCTTCTAGAGTTCCTGATATCCTGGT\n",
      "Processing read: AATACATAAGAAAGCTACATGATGAGTTAACAGGACACATGTTAGACATGTATTCTGTTATGCTTACTAATGATAACACTTCAAGGTATTGGGAACCTGA\n",
      "Processing read: AGACGGTTGGGAAATTGTTAAATTTATCTCAACCTGTGCTTGTGAAATTGTCGGTGGACAAATTGTCACCTGTGCAAAGGAAATTAAGGAGAGTGTTCAG\n",
      "Processing read: AATTGCACAATTTGCCCCCAGCGCTACAGCGTGATTCGGTATGTCGCGCATTGGCATGGAGGTCACACCTTCGGGAACGTGGTTGACCTACACAGGTGCC\n",
      "Processing read: TATGTCGATAACAACTTCTGTGGCCCTGATGGCTACCCTCTTGAGTGCATTAAAGACCTTCTAGCACGTGCTGGTAAAGCTTCATGCACTTTGTCCGAAC\n",
      "Processing read: ACGTTTTCGCTTTTACGTTTAAGATATATAGTCTACTCTAGTGCAGAATGAATTCTCGTAACTACATAGCACAAGTAGACGTAGTTAACATTAATCTCAC\n",
      "Processing read: ATATAAGGGTATTAAAATACAAGAGGGTGTGGTTGATTATGGTGCTAGATTTTACTTTTACACCAGTAAAACAACTGTAGCGTCACTTATCAACACACTT\n",
      "Processing read: TACTCCTTCAGATTTTGTTCGCGCTACTGCAACGATACCGATACAAGCCTCACTCCCTTTCGGATGGCTTATTGTTGGCGTTGCACTTCTTGCTGTTTTT\n",
      "Processing read: TCTAAACTGATAAATATTATAATTTGGTTTATACTATTAAGTGTTTGCCTAGGTTCTTTAATCTACTCAACCGCTGCTTTAGGTGTTTTAATGTCTAATT\n",
      "Processing read: GCCTGTTGGCATCATTCTATTGGATTTGATTACGTCTATAATCCGTTTATGATTGATGTTCAACAATGGGGTTTTACAGGTAACCTACAAAGCAACCATG\n",
      "Processing read: CAACTTACAAATTAAATGTTGGTGATTATTTTGTGCTGACATCACATACAGTAATGCCATTAAGTGCACCTACACTAGTGCCACAAGAGCACTATGTTAG\n",
      "Processing read: GTAGAATTCGATCTGTCTATCCAGTTGCGTCACCAAATGAATGCAACCAAATGTGCCTTTCAACTCTCATGAAGTGTGATCATTGTGGTGAAACTTCATG\n",
      "Processing read: TTGATAGTGTTAAAGTGAAGAATGGTTCCATCCATCTTTACTTTGATAAAGCTGGTCAAAAGACTTATGAAAGACATTCTCTCTCTCATTTTGTTAACTT\n",
      "Processing read: ACCTTTTGATTCAGAGTACTGTAGGCACGGCACTTGTGAAAAATCAGAAGCTTGTGTTTGTGTATCTACTAGTGGTAGATGGGTACTTAACAATGAATAT\n",
      "Processing read: GTAAAACCTTCTTTTTACGTTTACTCTCGTGTTAAAAATCTGAATTCTTCTGGAGTTCCTGATCTTCTGGTCTAAACGAACTAAATATTATATTAGTTTT\n",
      "Processing read: CCCTTGCTACTCATGGCTTAGCTGCTGTAAATTGTGTCCCTTGGGATACTATCGCTAATTATGCTAAGCCTTTTCTTAACTAAGTTGTTAGTACAACTAC\n",
      "Processing read: ATGCAGCTTTTGCTACTGCTCAAGAAGCTTATGAGCAGGCTGTTGCTAATGGTGATTCTGAAGTTGTTCTTAAAAAGTTGAAGAAGTCTTTGAATGTGGC\n",
      "Processing read: CCTAACATGCTTAGAATTATGGCCTCACTTGTTCTTGCTCGCAAACATACAACGTGTTGTAGCTTGTCACACCGTTTCTATAGATTAGCTAATGAGTGTG\n",
      "Processing read: CCTGCTTCAAGAGAGCTTAAAGTTACATTTTTCCCTGACTTAAATGGTGATGTGGTGGCTATTGATTATAAACACTACACACCCTCTTTTAAGAAAGGAG\n",
      "Processing read: CTTAAATTCCATAATCAAGACTATTCAACCAAGGGTTGAAAAGAAAAAGCTTGATGGCTTTATGGGTAGAATTCGATCTGTCTATCCAGTTGCGTCACCA\n",
      "Processing read: GTGACTCAACAATTAATTAGCGCTGCAGAAATCAGAGCTTCTGCTAATCTTGCCGCTACTAAAATGTCAAATTGTGTACTTGGACAATCAAAAAGAGGTG\n",
      "Processing read: AAGTCTAATCATAATTTCTTGGTACAGGCTGGTAATGTTCAACTCAGGGTTATTGGACATTCTATGCAAAATTGTGTACTTAAGCTTAAGGTTGATACAG\n",
      "Processing read: TATCTATACAGAACTGTAACCACCTTGTAGATTTGTTACAGACACACCTAAAAGTCCTAAAGTGAAGTATTTACACTGTATTAAAGGATTAAACAACCTA\n",
      "Processing read: GTACATGGGCACACTTTCTTAGGAACAATGTAAGAAAGGGGTTCAGATACCTTGTACGTGTGGTAAAAAAGCTACGAAATATCTAGTACAACAGGAGTCA\n",
      "Processing read: GAAAGTGTGACCTTCAAAATTATGGTGATAGTGCAACACTCCCTAAACGCATAATGCTGAATGTCGCAAAATATACTCAACTGTGTCAATATTTAAACAC\n",
      "Processing read: AGAGTACACTGACTTTGCAACATCAGCTTGTGTTTGGCCCGCTGAATGTACAATTTTTAAAGATGCTTCAGGTAAGCCAGTACCATTTTGTTATGATACC\n",
      "Processing read: CAGGGCTTTTGACATCTACAATGATAAAGTAGCTGGTTTTGCTAAATTCCTAAAAACTAATTGTTGTCGCTTCCAAGAAAAGGACGAAGATGACAATTTA\n",
      "Processing read: CTAAAGTCTCCTACGTGTATAACACGTTGCAATTTAGGTGGTGCTGTCTGTAGACATCATGCTAATGAGTACAGATTGTATCTCGATGCTTATAACATGA\n",
      "Processing read: TGGATTTATCTTCTAGAATTTGCCTTTGCCAACAGGAATAGGTTTTTGTATATAATTAAGTTAATTTTCCTCTGGCTGTTAGGGCCAGTACCTTTAGCTT\n",
      "Processing read: GGTCAAGTAGACTTATTTAGAAATGCCCGTAATGGTGTTCTTATTACAGAAGGTAGTGTTAAAGGTTTACAACCATCTGTAGGTCCCAAACAAGCTAGTC\n",
      "Processing read: ATTAGCCGCAAATTGCACAATTTGCCCCCAGCGCTTCAGCGTTCTTCGGAATGTCGCGCATTGGCATGGAAGTCACACCTTCGGGAACGTGGTTGACCTA\n"
     ]
    }
   ],
   "source": [
    "from Bio import SeqIO\n",
    "# Process each read through the BWTSearcher\n",
    "with open(\"BWT_folder/sample_reads.fasta\", \"r\") as file:\n",
    "    for record in SeqIO.parse(file, \"fasta\"):\n",
    "        read_sequence = str(record.seq)\n",
    "\n",
    "        # Here is just a placeholder to demonstrate using the read with the BWTSearcher\n",
    "        print(\"Processing read:\", read_sequence)"
   ]
  },
  {
   "cell_type": "code",
   "execution_count": 6,
   "id": "c83088faeacd8858",
   "metadata": {
    "ExecuteTime": {
     "end_time": "2025-05-24T07:34:08.521173996Z",
     "start_time": "2025-05-24T07:34:08.495353277Z"
    },
    "collapsed": false
   },
   "outputs": [],
   "source": [
    "# Your impletementation of BWT\n",
    "\n",
    "class BWTSearcher:\n",
    "    def __init__(self, bwt_string):\n",
    "        self.bwt = bwt_string\n",
    "        self.n = len(bwt_string)\n",
    "        from collections import Counter\n",
    "        self.alphabet = sorted(set(self.bwt))\n",
    "        freq = Counter(self.bwt)\n",
    "        self.C = {}\n",
    "        total = 0\n",
    "        for c in self.alphabet:\n",
    "            self.C[c] = total\n",
    "            total += freq[c]\n",
    "        self.Occ = {c: [0]*(self.n + 1) for c in self.alphabet}\n",
    "        for i, ch in enumerate(self.bwt, start=1):\n",
    "            for c in self.alphabet:\n",
    "                self.Occ[c][i] = self.Occ[c][i-1] + (1 if ch == c else 0)\n",
    "\n",
    "    def occ(self, c, pos):\n",
    "        if c not in self.Occ:\n",
    "            return 0\n",
    "        return self.Occ[c][pos]\n",
    "    def bwt_pattern_search(self, pattern):\n",
    "        l = 0\n",
    "        r = self.n - 1\n",
    "        for ch in reversed(pattern):\n",
    "            if ch not in self.C:\n",
    "                return None, None\n",
    "            l = self.C[ch] + self.occ(ch, l)\n",
    "            r = self.C[ch] + self.occ(ch, r + 1) - 1\n",
    "            if l > r:\n",
    "                return None, None\n",
    "        return l, r"
   ]
  },
  {
   "cell_type": "code",
   "execution_count": 11,
   "id": "642392eb",
   "metadata": {},
   "outputs": [],
   "source": [
    "def classify_read(read, genome, SA, bwt_searcher, k_max=5):\n",
    "    L = len(read)\n",
    "    l, r = bwt_searcher.bwt_pattern_search(read)\n",
    "    if l is not None:\n",
    "        return 0\n",
    "    \n",
    "    seg_count = k_max + 1\n",
    "    seg_len = (L + seg_count - 1) // seg_count\n",
    "    seen_starts = set()\n",
    "    \n",
    "    for seg_idx in range(seg_count):\n",
    "        seg_start = seg_idx * seg_len\n",
    "        seg_end = min((seg_idx + 1) * seg_len, L)\n",
    "        segment = read[seg_start:seg_end]\n",
    "        if not segment:\n",
    "            continue\n",
    "        l_seg, r_seg = bwt_searcher.bwt_pattern_search(segment)\n",
    "        if l_seg is None:\n",
    "            continue\n",
    "        for sa_idx in range(l_seg, r_seg + 1):\n",
    "            genome_pos = SA[sa_idx]\n",
    "            full_start = genome_pos - seg_start\n",
    "            if full_start < 0 or full_start + L > len(genome):\n",
    "                continue\n",
    "            if full_start in seen_starts:\n",
    "                continue\n",
    "            seen_starts.add(full_start)\n",
    "            genome_sub = genome[full_start:full_start + L]\n",
    "            mismatches = sum(1 for a, b in zip(read, genome_sub) if a != b)\n",
    "            if mismatches == 0:\n",
    "                return 0\n",
    "            if mismatches == 1:\n",
    "                return 1\n",
    "            if mismatches == 5:\n",
    "                return 5\n",
    "    return None"
   ]
  },
  {
   "cell_type": "code",
   "execution_count": null,
   "id": "3df1e404bcd2b0e4",
   "metadata": {
    "collapsed": false
   },
   "outputs": [
    {
     "name": "stdout",
     "output_type": "stream",
     "text": [
      "Загружён суффиксный массив (длина = 29903).\n",
      "Загружена BWT-строка (длина = 29903).\n",
      "Инициализирован объект BWTSearcher.\n",
      "\n",
      "Общее число ридов: 100\n",
      "Результаты классификации:\n",
      "  - 0 мутаций: 45\n",
      "  - 1 мутация : 31\n",
      "  - 5 мутаций: 24\n",
      "  - Не классифицировано: 0\n"
     ]
    }
   ],
   "source": [
    "from collections import Counter\n",
    "from Bio import SeqIO\n",
    "\n",
    "required_files = [\"genome.fa\", \"suffix_array.txt\", \"bwt.txt\", \"reads.fa\"]\n",
    "\n",
    "record = SeqIO.read(\"BWT_folder/genome.fa\", \"fasta\")\n",
    "genome = str(record.seq)\n",
    "    \n",
    "    \n",
    "SA = []\n",
    "with open(\"suffix_array.txt\", \"r\") as f_sa:\n",
    "    for line in f_sa:\n",
    "        line = line.strip()\n",
    "        if line:\n",
    "            SA.append(int(line))\n",
    "    \n",
    "\n",
    "with open(\"bwt.txt\", \"r\") as f_bwt:\n",
    "    bwt_string = f_bwt.read().strip()\n",
    "\n",
    "    \n",
    "bwt_searcher = BWTSearcher(bwt_string)\n",
    "reads = []\n",
    "id = 0\n",
    "read_ids = []\n",
    "with open(\"BWT_folder/sample_reads.fasta\", \"r\") as file:\n",
    "    for record in SeqIO.parse(file, \"fasta\"):\n",
    "        id += 1\n",
    "        read_sequence = str(record.seq)\n",
    "\n",
    "        read_ids.append(id)\n",
    "        reads.append(read_sequence)\n",
    "    \n",
    "counts = Counter()\n",
    "total_reads = 0\n",
    "for record in SeqIO.parse(\"BWT_folder/sample_reads.fasta\", \"fasta\"):\n",
    "    total_reads += 1\n",
    "    read_sequence = str(record.seq)\n",
    "    cls = classify_read(read_sequence, genome, SA, bwt_searcher, k_max=5)\n",
    "    if cls is None:\n",
    "        counts[\"none\"] += 1\n",
    "    else:\n",
    "        counts[cls] += 1\n",
    "\n",
    "# Results\n",
    "print(f\"\\nОбщее число ридов: {total_reads}\")\n",
    "print(\"Результаты классификации:\")\n",
    "print(f\"  - 0 мутаций: {counts.get(0, 0)}\")\n",
    "print(f\"  - 1 мутация : {counts.get(1, 0)}\")\n",
    "print(f\"  - 5 мутаций: {counts.get(5, 0)}\")\n",
    "print(f\"  - Не классифицировано: {counts.get('none', 0)}\")"
   ]
  },
  {
   "cell_type": "code",
   "execution_count": null,
   "id": "7069e66b",
   "metadata": {},
   "outputs": [],
   "source": []
  }
 ],
 "metadata": {
  "kernelspec": {
   "display_name": "bio",
   "language": "python",
   "name": "python3"
  },
  "language_info": {
   "codemirror_mode": {
    "name": "ipython",
    "version": 3
   },
   "file_extension": ".py",
   "mimetype": "text/x-python",
   "name": "python",
   "nbconvert_exporter": "python",
   "pygments_lexer": "ipython3",
   "version": "3.13.2"
  }
 },
 "nbformat": 4,
 "nbformat_minor": 5
}
