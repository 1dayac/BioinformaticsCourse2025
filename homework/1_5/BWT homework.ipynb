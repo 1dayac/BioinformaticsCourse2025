{
 "cells": [
  {
   "cell_type": "markdown",
   "id": "8efa579ff07e2f65",
   "metadata": {
    "collapsed": false
   },
   "source": [
    "### BWT Homework"
   ]
  },
  {
   "cell_type": "markdown",
   "id": "198d918c9ae8d77f",
   "metadata": {
    "collapsed": false
   },
   "source": [
    "Today we will construct BWT from scratch. First we will construct a suffix array for a given string using pysuffixarray.\n"
   ]
  },
  {
   "cell_type": "code",
   "execution_count": 1,
   "id": "6f97bdc41ac10703",
   "metadata": {
    "ExecuteTime": {
     "end_time": "2025-05-24T07:34:02.356947687Z",
     "start_time": "2025-05-24T07:34:01.774292066Z"
    },
    "collapsed": false
   },
   "outputs": [
    {
     "name": "stdout",
     "output_type": "stream",
     "text": [
      "Collecting pysuffixarray\n",
      "  Downloading pysuffixarray-0.0.1.tar.gz (2.8 kB)\n",
      "  Preparing metadata (setup.py) ... \u001b[?25ldone\n",
      "\u001b[?25hBuilding wheels for collected packages: pysuffixarray\n",
      "  Building wheel for pysuffixarray (setup.py) ... \u001b[?25ldone\n",
      "\u001b[?25h  Created wheel for pysuffixarray: filename=pysuffixarray-0.0.1-py3-none-any.whl size=3482 sha256=03ca6792f4da6e3800203f11c84c70aacba5c5a17fc2abbd2aa3eb7e45e8077d\n",
      "  Stored in directory: /Users/polina/Library/Caches/pip/wheels/3e/50/c2/b3e3f16ef336e594fcf1c604b84b4c88a72f79b7f9cb18e3b3\n",
      "Successfully built pysuffixarray\n",
      "Installing collected packages: pysuffixarray\n",
      "Successfully installed pysuffixarray-0.0.1\n",
      "\n",
      "\u001b[1m[\u001b[0m\u001b[34;49mnotice\u001b[0m\u001b[1;39;49m]\u001b[0m\u001b[39;49m A new release of pip is available: \u001b[0m\u001b[31;49m23.2.1\u001b[0m\u001b[39;49m -> \u001b[0m\u001b[32;49m25.1.1\u001b[0m\n",
      "\u001b[1m[\u001b[0m\u001b[34;49mnotice\u001b[0m\u001b[1;39;49m]\u001b[0m\u001b[39;49m To update, run: \u001b[0m\u001b[32;49mpip install --upgrade pip\u001b[0m\n",
      "[6, 2, 0, 3, 1, 4, 5]\n"
     ]
    }
   ],
   "source": [
    "!pip install pysuffixarray\n",
    "\n",
    "from pysuffixarray.core import SuffixArray\n",
    "sa = SuffixArray('ACAACG')\n",
    "print(sa.suffix_array())"
   ]
  },
  {
   "cell_type": "code",
   "execution_count": 15,
   "id": "3137557e",
   "metadata": {},
   "outputs": [],
   "source": [
    "from Bio import SeqIO\n",
    "import numpy as np\n",
    "from pysuffixarray.core import SuffixArray\n",
    "from collections import defaultdict, Counter"
   ]
  },
  {
   "cell_type": "markdown",
   "id": "61d26d5b77ddc452",
   "metadata": {
    "collapsed": false
   },
   "source": [
    "## Task 1: Create BWT using suffix array:\n",
    "\n",
    "- Using BioPython upload SARS-CoV-2 reference genome from fasta file (genome.fa in BWT_folder)\n",
    "- Construct suffix array\n",
    "- Construct BWT from suffix array\n",
    "- Don't forget to add special symbol (but after SA construction)"
   ]
  },
  {
   "cell_type": "markdown",
   "id": "6f8f14ef68ffebdc",
   "metadata": {
    "collapsed": false
   },
   "source": [
    "![correct](BWT_folder/BWT1.png)"
   ]
  },
  {
   "cell_type": "code",
   "execution_count": 11,
   "id": "027cca4e",
   "metadata": {},
   "outputs": [
    {
     "name": "stdout",
     "output_type": "stream",
     "text": [
      "Reference length = 29903\n",
      "First 10 entries of SA: [29903, 29902, 29901, 29900, 29899, 29898, 29897, 29896, 29895, 29894]\n"
     ]
    }
   ],
   "source": [
    "# Load the reference genome and append $\n",
    "\n",
    "ref_path = \"BWT_folder/genome.fa\"  \n",
    "with open(ref_path, \"r\") as handle:\n",
    "    record = next(SeqIO.parse(handle, \"fasta\"))\n",
    "    ref_seq = str(record.seq)  \n",
    "print(f\"Reference length = {len(ref_seq)}\")\n",
    "\n",
    "\n",
    "# Build the SA using pysuffixarray\n",
    "\n",
    "sa_obj = SuffixArray(ref_seq)\n",
    "SA = sa_obj.suffix_array() \n",
    "print(f\"First 10 entries of SA: {SA[:10]}\")"
   ]
  },
  {
   "cell_type": "code",
   "execution_count": 16,
   "id": "d0734eb7",
   "metadata": {},
   "outputs": [
    {
     "name": "stdout",
     "output_type": "stream",
     "text": [
      "First 10 chars of BWT: AAAAAAAAAA\n"
     ]
    }
   ],
   "source": [
    "# Construct the BWT from SA\n",
    "\n",
    "n = len(ref_seq)\n",
    "bwt_list = []\n",
    "for idx in SA:\n",
    "    if idx == 0:\n",
    "        bwt_list.append(\"$\")          \n",
    "    else:\n",
    "        bwt_list.append(ref_seq[idx - 1])\n",
    "\n",
    "BWT = \"\".join(bwt_list)\n",
    "print(\"First 10 chars of BWT:\", BWT[:10])"
   ]
  },
  {
   "cell_type": "markdown",
   "id": "85d614e50924bb7",
   "metadata": {
    "collapsed": false
   },
   "source": [
    "## Task 2: Create FM index\n",
    "- Construct Occurence array\n",
    "- Construct Count dictionary\n",
    "- Make a class BWTSearcher"
   ]
  },
  {
   "cell_type": "markdown",
   "id": "9e230b6fbcfe242e",
   "metadata": {
    "collapsed": false
   },
   "source": [
    "![correct](BWT_folder/BWT3.png)"
   ]
  },
  {
   "cell_type": "code",
   "execution_count": 33,
   "id": "dbef60cb",
   "metadata": {},
   "outputs": [],
   "source": [
    "# Your impletementation of BWT\n",
    "\n",
    "class BWTSearcher:\n",
    "    def __init__(self, reference):\n",
    "        if isinstance(reference, str) and (reference.endswith(\".fa\") or reference.endswith(\".fasta\")):\n",
    "            rec = next(SeqIO.parse(reference, \"fasta\"))\n",
    "            raw_seq = str(rec.seq)\n",
    "        else:\n",
    "            raw_seq = str(reference)\n",
    "            \n",
    "        self.ref = raw_seq\n",
    "        \n",
    "        sa_obj = SuffixArray(self.ref)\n",
    "        self.SA = list(sa_obj.suffix_array())\n",
    "        self.n   = len(self.SA)  \n",
    "\n",
    "        bwt_chars = []\n",
    "        \n",
    "        for pos in self.SA:\n",
    "            if pos == 0:\n",
    "                bwt_chars.append(\"$\")\n",
    "            else:\n",
    "                bwt_chars.append(self.ref[pos - 1])\n",
    "        \n",
    "        self.BWT = \"\".join(bwt_chars)\n",
    "\n",
    "        total_counts = Counter(self.BWT)\n",
    "        alphabet = sorted(total_counts.keys())\n",
    "\n",
    "        self.Count = {}\n",
    "        cum = 0\n",
    "\n",
    "        for ch in alphabet:\n",
    "            self.Count[ch] = cum\n",
    "            cum += total_counts[ch]\n",
    "        \n",
    "        self.Occ = {ch: [0] * self.n for ch in alphabet}\n",
    "        running_counts = {ch: 0 for ch in alphabet}\n",
    "\n",
    "        for i, bch in enumerate(self.BWT):\n",
    "            running_counts[bch] += 1\n",
    "            for ch in alphabet:\n",
    "                self.Occ[ch][i] = running_counts[ch]\n",
    "    \n",
    "    \n",
    "    def _occ(self, ch, idx):\n",
    "        if idx < 0:\n",
    "            return 0\n",
    "        return self.Occ[ch][idx]\n",
    "\n",
    "    def bwt_pattern_search(self, pattern):\n",
    "        m = len(pattern)\n",
    "        # Initialize the full interval [sp, ep]\n",
    "        sp = 0\n",
    "        ep = self.n - 1\n",
    "\n",
    "        for j in range(m - 1, -1, -1):\n",
    "            c = pattern[j]\n",
    "            if c not in self.Count:\n",
    "                # Character not even in our alphabet - no match possible\n",
    "                return []\n",
    "            \n",
    "            sp = self.Count[c] + self._occ(c, sp - 1)\n",
    "            ep = self.Count[c] + self._occ(c, ep) - 1\n",
    "            \n",
    "            # If the interval becomes invalid, there is no match\n",
    "            if sp > ep:\n",
    "                return []\n",
    "    \n",
    "        matched_positions = self.SA[sp : ep + 1]\n",
    "        return sorted(matched_positions)\n"
   ]
  },
  {
   "cell_type": "markdown",
   "id": "81e61f0541bc7ee5",
   "metadata": {
    "collapsed": false
   },
   "source": [
    "### Task 4:\n",
    "- There are 100 reads that were randomly sampled from genome.fa\n",
    "- Some of them are error free, some contain one mutation, and some contain 5 mutations\n",
    "- Could you use your BWTSearcher class to classify them? Think about the solution and implement it. You can add any functions of class members\n",
    "- How many reads of each class did you find?"
   ]
  },
  {
   "cell_type": "code",
   "execution_count": 34,
   "id": "f63518aa",
   "metadata": {},
   "outputs": [],
   "source": [
    "def hamming_distance(s1, s2):\n",
    "    \"\"\"\n",
    "    Compute the Hamming distance between two strings s1 and s2 of equal length.\n",
    "    \"\"\"\n",
    "    return sum(ch1 != ch2 for ch1, ch2 in zip(s1, s2))\n",
    "\n",
    "\n",
    "class BWTSearcher(BWTSearcher):\n",
    "    def get_substring(self, pos, length):\n",
    "        \"\"\"\n",
    "        Return the substring of the reference of length 'length', starting at index pos.\n",
    "        \"\"\"\n",
    "        if pos + length > len(self.ref) - 1:  \n",
    "            # we avoid crossing the '$' character\n",
    "            return None\n",
    "        return self.ref[pos : pos + length]\n",
    "    \n",
    "    def find_candidates_prefix(self, prefix):\n",
    "        \"\"\"\n",
    "        Return all starting positions in the reference where 'prefix' occurs exactly.\n",
    "        \"\"\"\n",
    "        return self.bwt_pattern_search(prefix)"
   ]
  },
  {
   "cell_type": "code",
   "execution_count": 39,
   "id": "eb470521f0d8cfa6",
   "metadata": {
    "ExecuteTime": {
     "end_time": "2025-05-24T07:34:07.104074478Z",
     "start_time": "2025-05-24T07:34:07.045213399Z"
    },
    "collapsed": false
   },
   "outputs": [
    {
     "name": "stdout",
     "output_type": "stream",
     "text": [
      "===== Classification Summary =====\n",
      "Reads with 0 mismatches: 45\n",
      "Reads with 1 mismatches: 31\n",
      "Reads with 5 mismatches: 2\n",
      "Reads with neither 0, 1, nor 5 mismatches: 22\n",
      "----------------------------------\n",
      "Total classified (should be 100): 100\n"
     ]
    }
   ],
   "source": [
    "from Bio import SeqIO\n",
    "\n",
    "# Counters for each class\n",
    "count_error_free = 0\n",
    "count_one_mut = 0\n",
    "count_five_mut = 0\n",
    "count_unk_mut = 0\n",
    "\n",
    "reference_fasta = \"BWT_folder/genome.fa\"\n",
    "searcher = BWTSearcher(reference_fasta)\n",
    "\n",
    "# Process each read through the BWTSearcher\n",
    "with open(\"BWT_folder/sample_reads.fasta\", \"r\") as fh:\n",
    "    for record in SeqIO.parse(fh, \"fasta\"):\n",
    "        read_id   = record.id\n",
    "        read_seq  = str(record.seq)\n",
    "        m         = len(read_seq)\n",
    "        mid       = m // 2\n",
    "        left_half  = read_seq[:mid]\n",
    "        right_half = read_seq[mid:]\n",
    "\n",
    "        # 0 mismatches\n",
    "        exact_hits = searcher.bwt_pattern_search(read_seq)\n",
    "        if exact_hits:\n",
    "            count_error_free += 1\n",
    "            continue\n",
    "\n",
    "        # 1 mismatch\n",
    "        found_one_mismatch = False\n",
    "\n",
    "        cand_left = searcher.bwt_pattern_search(left_half)\n",
    "        for pos in cand_left:\n",
    "            ref_sub = searcher.get_substring(pos, m)\n",
    "            if ref_sub is None:\n",
    "                continue\n",
    "            if hamming_distance(read_seq, ref_sub) == 1:\n",
    "                found_one_mismatch = True\n",
    "                break\n",
    "\n",
    "        if not found_one_mismatch:\n",
    "            cand_right = searcher.bwt_pattern_search(right_half)\n",
    "            for pos_r in cand_right:\n",
    "                full_start = pos_r - mid\n",
    "                if full_start < 0:\n",
    "                    continue\n",
    "                ref_sub = searcher.get_substring(full_start, m)\n",
    "                if ref_sub is None:\n",
    "                    continue\n",
    "                if hamming_distance(read_seq, ref_sub) == 1:\n",
    "                    found_one_mismatch = True\n",
    "                    break\n",
    "\n",
    "        if found_one_mismatch:\n",
    "            count_one_mut += 1\n",
    "            continue\n",
    "        \n",
    "        # 5 mismatches\n",
    "        found_five_mismatch = False\n",
    "\n",
    "        cand_left = searcher.bwt_pattern_search(left_half)\n",
    "\n",
    "        for pos in cand_left:\n",
    "            ref_sub = searcher.get_substring(pos, m)\n",
    "            if ref_sub is None:\n",
    "                continue\n",
    "            if hamming_distance(read_seq, ref_sub) == 5:\n",
    "                found_five_mismatch = True\n",
    "                break\n",
    "\n",
    "        if not found_five_mismatch:\n",
    "            cand_right = searcher.bwt_pattern_search(right_half)\n",
    "            for pos_r in cand_right:\n",
    "                full_start = pos_r - mid\n",
    "                if full_start < 0:\n",
    "                    continue\n",
    "                ref_sub = searcher.get_substring(full_start, m)\n",
    "                if ref_sub is None:\n",
    "                    continue\n",
    "                if hamming_distance(read_seq, ref_sub) == 5:\n",
    "                    found_five_mismatch = True\n",
    "                    break\n",
    "\n",
    "        if found_five_mismatch:\n",
    "            count_five_mut += 1\n",
    "\n",
    "        # neither 0, 1, nor 5 mismatches\n",
    "        else:\n",
    "            count_unk_mut += 1\n",
    "\n",
    "\n",
    "print(\"===== Classification Summary =====\")\n",
    "print(f\"Reads with 0 mismatches: {count_error_free}\")\n",
    "print(f\"Reads with 1 mismatches: {count_one_mut}\")\n",
    "print(f\"Reads with 5 mismatches: {count_five_mut}\")\n",
    "print(f\"Reads with neither 0, 1, nor 5 mismatches: {count_unk_mut}\")\n",
    "\n",
    "print(\"----------------------------------\")\n",
    "print(f\"Total classified (should be 100): {count_error_free + count_one_mut + count_five_mut + count_unk_mut}\")"
   ]
  },
  {
   "cell_type": "code",
   "execution_count": null,
   "id": "13d23758",
   "metadata": {},
   "outputs": [],
   "source": []
  }
 ],
 "metadata": {
  "kernelspec": {
   "display_name": ".venv",
   "language": "python",
   "name": "python3"
  },
  "language_info": {
   "codemirror_mode": {
    "name": "ipython",
    "version": 3
   },
   "file_extension": ".py",
   "mimetype": "text/x-python",
   "name": "python",
   "nbconvert_exporter": "python",
   "pygments_lexer": "ipython3",
   "version": "3.9.6"
  }
 },
 "nbformat": 4,
 "nbformat_minor": 5
}
