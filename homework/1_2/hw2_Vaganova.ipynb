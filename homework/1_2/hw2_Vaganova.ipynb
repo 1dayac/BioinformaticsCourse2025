{
 "cells": [
  {
   "cell_type": "markdown",
   "id": "3fc98acb",
   "metadata": {},
   "source": [
    "### Практическая часть\n",
    "1. Нидлман Вунш (3 балла)  \n",
    "Реализуйте алгоритм Нидлмана Вунша для выравнивания последовательностеей. \n",
    "На вход принимается две строки, матрица замен и стоимость гэпа. \n",
    "В результате верните оптимальное выравнивание и его вес. При проверке \n",
    "помните, что оптимальных выравниваний может быть несколько, \n",
    "но вес у них должен совпадать."
   ]
  },
  {
   "cell_type": "code",
   "execution_count": 1,
   "id": "eefe7c27",
   "metadata": {},
   "outputs": [],
   "source": [
    "from Bio.Align import substitution_matrices"
   ]
  },
  {
   "cell_type": "code",
   "execution_count": 9,
   "id": "6f52f851",
   "metadata": {},
   "outputs": [],
   "source": [
    "def global_alignment(str1, str2, substitution_mtrx, gap_penalty):\n",
    "    dp = [[0 for _ in range(len(str2) + 1)] for _ in range(len(str1) + 1)]\n",
    "\n",
    "    for i in range(len(str1) + 1):\n",
    "        dp[i][0] = i * gap_penalty\n",
    "\n",
    "    for j in range(len(str2) + 1):\n",
    "        dp[0][j] = j * gap_penalty\n",
    "\n",
    "    for i in range(1, len(str1) + 1):\n",
    "        for j in range(1, len(str2) + 1):\n",
    "            match = dp[i - 1][j - 1] + substitution_mtrx[str1[i - 1]][str2[j - 1]]\n",
    "            delete = dp[i - 1][j] + gap_penalty\n",
    "            insert = dp[i][j - 1] + gap_penalty\n",
    "\n",
    "            dp[i][j] = max(match, delete, insert)\n",
    "\n",
    "    final_weight = int(dp[len(str1)][len(str2)])\n",
    "\n",
    "    aligned_str1, aligned_str2 = \"\", \"\"\n",
    "\n",
    "    i, j = len(str1), len(str2)\n",
    "\n",
    "    while i > 0 or j > 0:\n",
    "        if i > 0 and j > 0 and dp[i][j] == dp[i - 1][j - 1] + substitution_mtrx[str1[i - 1]][str2[j - 1]]:\n",
    "            aligned_str1 = str1[i - 1] + aligned_str1\n",
    "            aligned_str2 = str2[j - 1] + aligned_str2\n",
    "            i -= 1\n",
    "            j -= 1\n",
    "\n",
    "        elif i > 0 and dp[i][j] == dp[i - 1][j] + gap_penalty:\n",
    "            aligned_str1 = str1[i - 1] + aligned_str1\n",
    "            aligned_str2 = \"-\" + aligned_str2\n",
    "            i -= 1\n",
    "\n",
    "        else:\n",
    "            aligned_str1 = \"-\" + aligned_str1\n",
    "            aligned_str2 = str2[j - 1] + aligned_str2\n",
    "            j -= 1\n",
    "\n",
    "    return aligned_str1, aligned_str2, final_weight\n"
   ]
  },
  {
   "cell_type": "code",
   "execution_count": 10,
   "id": "b6a553d7",
   "metadata": {},
   "outputs": [
    {
     "name": "stdout",
     "output_type": "stream",
     "text": [
      "G-ATT\n",
      "GCATG\n",
      "9\n"
     ]
    }
   ],
   "source": [
    "str1 = \"GATT\"\n",
    "str2 = \"GCATG\"\n",
    "nuc_matrix = substitution_matrices.load(\"NUC.4.4\")\n",
    "gap_penalty = -2\n",
    "\n",
    "aligned_str1, aligned_str2, final_weight = global_alignment(str1, str2, nuc_matrix, gap_penalty)\n",
    "\n",
    "print(aligned_str1)\n",
    "print(aligned_str2)\n",
    "print(final_weight)\n"
   ]
  },
  {
   "cell_type": "code",
   "execution_count": null,
   "id": "7be8eb05",
   "metadata": {},
   "outputs": [
    {
     "name": "stdout",
     "output_type": "stream",
     "text": [
      "AGTACGCA\n",
      "--TATGC-\n",
      "10\n"
     ]
    }
   ],
   "source": [
    "str1 = \"AGTACGCA\"\n",
    "str2 = \"TATGC\"\n",
    "gap_penalty = -2\n",
    "\n",
    "aligned_str1, aligned_str2, final_weight = global_alignment(str1, str2, nuc_matrix, gap_penalty)\n",
    "\n",
    "print(aligned_str1)\n",
    "print(aligned_str2)\n",
    "print(final_weight)\n"
   ]
  },
  {
   "cell_type": "code",
   "execution_count": 15,
   "id": "72c005b7",
   "metadata": {},
   "outputs": [
    {
     "name": "stdout",
     "output_type": "stream",
     "text": [
      "ACGTACGT\n",
      "ACGTGCGT\n",
      "31\n"
     ]
    }
   ],
   "source": [
    "str1 = \"ACGTACGT\"\n",
    "str2 = \"ACGTGCGT\"\n",
    "gap_penalty = -2\n",
    "\n",
    "aligned_str1, aligned_str2, final_weight = global_alignment(str1, str2, nuc_matrix, gap_penalty)\n",
    "print(aligned_str1)\n",
    "print(aligned_str2)\n",
    "print(final_weight)"
   ]
  },
  {
   "cell_type": "code",
   "execution_count": 16,
   "id": "eac9acde",
   "metadata": {},
   "outputs": [
    {
     "name": "stdout",
     "output_type": "stream",
     "text": [
      "ACGT\n",
      "AC-T\n",
      "13\n"
     ]
    }
   ],
   "source": [
    "str1 = \"ACGT\"\n",
    "str2 = \"ACT\"\n",
    "gap_penalty = -2\n",
    "\n",
    "aligned_str1, aligned_str2, final_weight = global_alignment(str1, str2, nuc_matrix, gap_penalty)\n",
    "print(aligned_str1)\n",
    "print(aligned_str2)\n",
    "print(final_weight)"
   ]
  },
  {
   "cell_type": "code",
   "execution_count": 17,
   "id": "d8dc0190",
   "metadata": {},
   "outputs": [
    {
     "name": "stdout",
     "output_type": "stream",
     "text": [
      "ACGTACGTACGT\n",
      "----ACG-ACG-\n",
      "18\n"
     ]
    }
   ],
   "source": [
    "str1 = \"ACGTACGTACGT\"\n",
    "str2 = \"ACGACG\"\n",
    "gap_penalty = -2\n",
    "\n",
    "aligned_str1, aligned_str2, final_weight = global_alignment(str1, str2, nuc_matrix, gap_penalty)\n",
    "print(aligned_str1)\n",
    "print(aligned_str2)\n",
    "print(final_weight)"
   ]
  },
  {
   "cell_type": "markdown",
   "id": "292a5371",
   "metadata": {},
   "source": [
    "2. Афинные гэпы (4 балла)  \n",
    "Реализуйте выравнивание с афинными гэпами, алгоритм на \n",
    "вход принимает две строки, матрицу замен, штраф за начало \n",
    "гэпа α, и за его продолжение β. В результате возвращает \n",
    "выравнивание и его вес. Сложность алгоритма квадратичная \n",
    "по памяти и по времени."
   ]
  },
  {
   "cell_type": "code",
   "execution_count": 21,
   "id": "a30245de",
   "metadata": {},
   "outputs": [],
   "source": [
    "def global_affine_alignment(str1, str2, substitution_mtrx, alpha, beta):\n",
    "    rows = len(str1) + 1\n",
    "    cols = len(str2) + 1\n",
    "\n",
    "    dp = [[0 for _ in range(cols)] for _ in range(rows)]\n",
    "    upper = [[float('-inf') for _ in range(cols)] for _ in range(rows)]\n",
    "    lower = [[float('-inf') for _ in range(cols)] for _ in range(rows)]\n",
    "\n",
    "    for i in range(1, rows):\n",
    "        dp[i][0] = alpha + i * beta\n",
    "        upper[i][0] = alpha + i * beta\n",
    "\n",
    "    for j in range(1, cols):\n",
    "        dp[0][j] = alpha + j * beta\n",
    "        lower[0][j] = alpha + j * beta\n",
    "\n",
    "    for i in range(1, rows):\n",
    "        for j in range(1, cols):\n",
    "            match_score = substitution_mtrx[str1[i - 1]][str2[j - 1]]\n",
    "            match = dp[i - 1][j - 1] + match_score\n",
    "            upper[i][j] = max(upper[i - 1][j] + beta, dp[i - 1][j] + alpha + beta)\n",
    "            lower[i][j] = max(lower[i][j - 1] + beta, dp[i][j - 1] + alpha + beta)\n",
    "            dp[i][j] = max(match, upper[i][j], lower[i][j])\n",
    "\n",
    "    aligned_str1 = ''\n",
    "    aligned_str2 = ''\n",
    "    i = len(str1)\n",
    "    j = len(str2)\n",
    "    x = 'm'\n",
    "\n",
    "    while i > 0 or j > 0:\n",
    "        if x == 'm':\n",
    "            current_match_score = substitution_mtrx[str1[i - 1]][str2[j - 1]]\n",
    "\n",
    "            if i > 0 and j > 0 and dp[i][j] == dp[i - 1][j - 1] + current_match_score:\n",
    "                aligned_str1 = str1[i - 1] + aligned_str1\n",
    "                aligned_str2 = str2[j - 1] + aligned_str2\n",
    "                i -= 1\n",
    "                j -= 1\n",
    "\n",
    "            elif i > 0 and dp[i][j] == upper[i][j]:\n",
    "                x = 'u'\n",
    "            elif j > 0 and dp[i][j] == lower[i][j]:\n",
    "                x = 'l'\n",
    "\n",
    "        if x == 'l':\n",
    "            if lower[i][j] == lower[i][j - 1] + beta:\n",
    "                aligned_str1 = \"-\" + aligned_str1\n",
    "                aligned_str2 = str2[j - 1] + aligned_str2\n",
    "                j -= 1\n",
    "                x = 'l'\n",
    "            if lower[i][j] == dp[i][j - 1] + alpha + beta:\n",
    "                aligned_str1 = \"-\" + aligned_str1\n",
    "                aligned_str2 = str2[j - 1] + aligned_str2\n",
    "                j -= 1\n",
    "                x = 'm'\n",
    "\n",
    "        if x == 'u':\n",
    "            if upper[i][j] == upper[i - 1][j] + beta:\n",
    "                aligned_str2 = \"-\" + aligned_str2\n",
    "                aligned_str1 = str1[i - 1] + aligned_str1\n",
    "                i -= 1\n",
    "                x = 'u'\n",
    "\n",
    "            if upper[i][j] == dp[i - 1][j] + alpha + beta:\n",
    "                aligned_str2 = \"-\" + aligned_str2\n",
    "                aligned_str1 = str1[i - 1] + aligned_str1\n",
    "                i -= 1\n",
    "                x = 'm'\n",
    "\n",
    "    final_weight = dp[len(str1)][len(str2)]\n",
    "\n",
    "    return aligned_str1, aligned_str2, final_weight"
   ]
  },
  {
   "cell_type": "code",
   "execution_count": 25,
   "id": "cac72644",
   "metadata": {},
   "outputs": [
    {
     "name": "stdout",
     "output_type": "stream",
     "text": [
      "PTIMWAYSKPVSNGIM------------FLILLTWCRCYIRPSNFHMRTQNWTFKVNQLLPLDKYSCMWGIQGMYASTWLSHGCVRVWQYPVM\n",
      "PFGKWTH-LIVSNGIYNSQWTTHHNFQESLELLTWCRCYIRPS---MRTQNWTFKVNQLLPLDKYSCMWKIQGMYAST-LSHGCVRVWQYPVM\n",
      "302.0\n"
     ]
    }
   ],
   "source": [
    "str1 = \"PTIMWAYSKPVSNGIMFLILLTWCRCYIRPSNFHMRTQNWTFKVNQLLPLDKYSCMWGIQGMYASTWLSHGCVRVWQYPVM\"\n",
    "str2 = \"PFGKWTHLIVSNGIYNSQWTTHHNFQESLELLTWCRCYIRPSMRTQNWTFKVNQLLPLDKYSCMWKIQGMYASTLSHGCVRVWQYPVM\"\n",
    "ac_mtrx = substitution_matrices.load('BLOSUM62')\n",
    "alpha = -10\n",
    "beta = -1\n",
    "\n",
    "aligned_str1, aligned_str2, final_weight = global_affine_alignment(str1, str2, ac_mtrx, alpha, beta)\n",
    "print(aligned_str1)\n",
    "print(aligned_str2)\n",
    "print(final_weight)"
   ]
  },
  {
   "cell_type": "code",
   "execution_count": 26,
   "id": "72938263",
   "metadata": {},
   "outputs": [
    {
     "name": "stdout",
     "output_type": "stream",
     "text": [
      "HEAGAWGHEE\n",
      "---PAWHEAE\n",
      "1.0\n"
     ]
    }
   ],
   "source": [
    "str1 = \"HEAGAWGHEE\"\n",
    "str2 = \"PAWHEAE\"\n",
    "ac_mtrx = substitution_matrices.load('BLOSUM62')\n",
    "alpha = -11\n",
    "beta = -1\n",
    "\n",
    "aligned_str1, aligned_str2, final_weight = global_affine_alignment(str1, str2, ac_mtrx, alpha, beta)\n",
    "print(aligned_str1)\n",
    "print(aligned_str2)\n",
    "print(final_weight)"
   ]
  },
  {
   "cell_type": "code",
   "execution_count": 27,
   "id": "485c6aeb",
   "metadata": {},
   "outputs": [
    {
     "name": "stdout",
     "output_type": "stream",
     "text": [
      "KGDPKK\n",
      "RGDPRK\n",
      "28.0\n"
     ]
    }
   ],
   "source": [
    "str1 = \"KGDPKK\"\n",
    "str2 = \"RGDPRK\"\n",
    "ac_mtrx = substitution_matrices.load('BLOSUM62')\n",
    "alpha = -12\n",
    "beta = -2\n",
    "\n",
    "aligned_str1, aligned_str2, final_weight = global_affine_alignment(str1, str2, ac_mtrx, alpha, beta)\n",
    "print(aligned_str1)\n",
    "print(aligned_str2)\n",
    "print(final_weight)"
   ]
  },
  {
   "cell_type": "code",
   "execution_count": 28,
   "id": "db6564fa",
   "metadata": {},
   "outputs": [
    {
     "name": "stdout",
     "output_type": "stream",
     "text": [
      "MKLFA\n",
      "MKL-A\n",
      "4.0\n"
     ]
    }
   ],
   "source": [
    "str1 = \"MKLFA\"\n",
    "str2 = \"MKLA\"\n",
    "ac_mtrx = substitution_matrices.load('BLOSUM62')\n",
    "alpha = -12\n",
    "beta = -2\n",
    "\n",
    "aligned_str1, aligned_str2, final_weight = global_affine_alignment(str1, str2, ac_mtrx, alpha, beta)\n",
    "print(aligned_str1)\n",
    "print(aligned_str2)\n",
    "print(final_weight)"
   ]
  },
  {
   "cell_type": "markdown",
   "id": "5628633e",
   "metadata": {},
   "source": [
    "### Теоретическая часть\n",
    "1. Количество выравниваний (4 балла)  \n",
    "Выведите рекуррентную формулу количества всех возможных \n",
    "выравниваний последовательностей длины *n* и *m* пользуясь \n",
    "разбиением всех выравниваний на непересекающиеся \n",
    "блоки. (1.5 балл)  \n",
    "Получите точную формулу, основываясь на начальные условия и \n",
    "рекуррентную формулу. (1.5 балл)  \n",
    "Воспользуйтесь приближением Стирлинга чтобы получить \n",
    "приближенную формулу количества выравниваний. (1)"
   ]
  },
  {
   "cell_type": "markdown",
   "id": "70818933",
   "metadata": {},
   "source": [
    "**Решение**\n",
    "\n",
    "**1. Рекуррентная формула количества выравниваний**\n",
    "\n",
    "Пусть A(n,m) — количество всех возможных выравниваний последовательностей длины n и m. \n",
    "\n",
    "В каждую клетку в таблице выравнивания мы могли прийти тремя различными способами:\n",
    "- символ из первой последовательности выравнять с символом из второй  - match/mismatch\n",
    "- символ из первой последовательности выравнять с пропуском во второй - insertion\n",
    "- пропуск в первой последовательности выравнять с символом из второй - gap\n",
    "\n",
    "Тогда можно записать рекуррентное соотношение:\n",
    "A(n, m) = A(n-1, m-1) + A(n-1, m) + A(n, m-1), где\n",
    "\n",
    "- A(n-1, m-1) - число выравниваний, где перед текущей позицией находится match/mismatch\n",
    "- A(n-1,m) — количество выравниваний, где перед текущей позицией находится insertion\n",
    "- A(n,m-1) — количество выравниваний, где перед текущей позицией находится gap"
   ]
  },
  {
   "cell_type": "markdown",
   "id": "a8597141",
   "metadata": {},
   "source": [
    "**2. Точная формула**\n",
    "\n",
    "A(n,m) — количество всех возможных выравниваний можно понимать как количество способов дойти из точки (0,0) в точку (n,m) на решетке, используя три типа шагов: горизонтальный (1,0) gap, вертикальный шаг (0,1) inserion, диагональный шаг (1,1)\n",
    "\n",
    "Любой такой путь состоит из n «горизонтальных приращений» и m «вертикальных приращений» (так как в итоге мы должны сдвинуться на n вправо и на m вверх). \n",
    "\n",
    "Некоторые приращения «горизонталь + вертикаль» мы можем совместить в один диагональный шаг (1,1). \n",
    "\n",
    "Пусть k — число диагональных шагов, которые мы используем в пути. Тогда: каждый диагональный шаг «съедает» сразу и одно горизонтальное, и одно вертикальное приращение. Если было израсходовано k диагональных шагов, то остается:\n",
    "- (n - k) горизонтальных шагов (1,0)\n",
    "- (m - k) вертикальных» шагов (0,1)\n",
    "\n",
    "Суммарное число шагов в таком пути: $(n - k) \\;+\\;(m - k) \\;+\\;k \\;=\\; n + m - k$\n",
    "Из них $(n - k)$ будут горизонтальными $(m - k)$ — вертикальными, а $k$ — диагональными.\n",
    "\n",
    "Так как $k$ может быть от 0 до $\\min(n,m)$, суммируем по всем $k$:\n",
    "\n",
    "$$A(n,m)\n",
    "\\;=\\;\n",
    "\\sum_{k=0}^{\\min(n,m)}\n",
    "\\frac{(n + m - k)!}{(n-k)!\\,\\,(m-k)!\\,\\,k!}. = \\sum_{k=0}^{\\min(n,m)}\n",
    "\\binom{n}{k}\\,\\binom{m}{k}\\,2^k$$\n",
    "\n"
   ]
  },
  {
   "cell_type": "markdown",
   "id": "00919cd3",
   "metadata": {},
   "source": [
    "**3. Приближённая формула**\n",
    "\n",
    "$$n!\\;\\sim\\;\\sqrt{2\\pi n}\\,\\left(\\frac{n}{e}\\right)^{n}$$\n",
    "\n",
    "\n",
    "Каждое слагаемое можно аппроксимировать как:\n",
    "$\\binom{n}{k}\n",
    "\\;\\approx\\;\n",
    "\\frac{\\sqrt{2\\pi\\,n}\\,\\bigl(\\frac{n}{e}\\bigr)^n}\n",
    "{\\sqrt{2\\pi\\,k}\\,\\bigl(\\frac{k}{e}\\bigr)^k \\;\\sqrt{2\\pi\\,(n-k)}\\,\\bigl(\\frac{n-k}{e}\\bigr)^{\\,n-k}}\n",
    "$\n",
    "\n",
    "Основная экспоненциальная составляющая асимптотического роста числа выравниваний определяется функцией $3^n$"
   ]
  }
 ],
 "metadata": {
  "kernelspec": {
   "display_name": ".venv",
   "language": "python",
   "name": "python3"
  },
  "language_info": {
   "codemirror_mode": {
    "name": "ipython",
    "version": 3
   },
   "file_extension": ".py",
   "mimetype": "text/x-python",
   "name": "python",
   "nbconvert_exporter": "python",
   "pygments_lexer": "ipython3",
   "version": "3.9.6"
  }
 },
 "nbformat": 4,
 "nbformat_minor": 5
}
